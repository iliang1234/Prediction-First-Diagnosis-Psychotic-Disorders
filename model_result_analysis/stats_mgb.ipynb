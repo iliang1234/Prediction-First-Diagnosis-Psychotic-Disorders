{
 "cells": [
  {
   "cell_type": "code",
   "execution_count": 2,
   "id": "5817dd2f-c978-41b8-8f10-e75f85234f8e",
   "metadata": {},
   "outputs": [],
   "source": [
    "import numpy as np\n",
    "import pandas as pd\n",
    "import matplotlib.pyplot as plt\n",
    "from collections import defaultdict\n",
    "from sklearn.metrics import auc, roc_auc_score"
   ]
  },
  {
   "cell_type": "code",
   "execution_count": 25,
   "id": "cd33fd61-c3d1-4bb0-bd47-82f0ffea64b3",
   "metadata": {},
   "outputs": [
    {
     "data": {
      "text/html": [
       "<div>\n",
       "<style scoped>\n",
       "    .dataframe tbody tr th:only-of-type {\n",
       "        vertical-align: middle;\n",
       "    }\n",
       "\n",
       "    .dataframe tbody tr th {\n",
       "        vertical-align: top;\n",
       "    }\n",
       "\n",
       "    .dataframe thead th {\n",
       "        text-align: right;\n",
       "    }\n",
       "</style>\n",
       "<table border=\"1\" class=\"dataframe\">\n",
       "  <thead>\n",
       "    <tr style=\"text-align: right;\">\n",
       "      <th></th>\n",
       "      <th>Unnamed: 0</th>\n",
       "      <th>pred</th>\n",
       "      <th>description</th>\n",
       "      <th>Gini</th>\n",
       "    </tr>\n",
       "  </thead>\n",
       "  <tbody>\n",
       "    <tr>\n",
       "      <th>0</th>\n",
       "      <td>1</td>\n",
       "      <td>race</td>\n",
       "      <td>NaN</td>\n",
       "      <td>14.742317</td>\n",
       "    </tr>\n",
       "    <tr>\n",
       "      <th>1</th>\n",
       "      <td>2</td>\n",
       "      <td>MARITAL_STATUS</td>\n",
       "      <td>NaN</td>\n",
       "      <td>14.061233</td>\n",
       "    </tr>\n",
       "    <tr>\n",
       "      <th>2</th>\n",
       "      <td>3</td>\n",
       "      <td>dx_ICD9.296.7</td>\n",
       "      <td>Bipolar affective disorder, unspecified</td>\n",
       "      <td>8.977609</td>\n",
       "    </tr>\n",
       "    <tr>\n",
       "      <th>3</th>\n",
       "      <td>4</td>\n",
       "      <td>dx_ICD10.Z00.00</td>\n",
       "      <td>Encounter for general adult medical examinatio...</td>\n",
       "      <td>7.877645</td>\n",
       "    </tr>\n",
       "    <tr>\n",
       "      <th>4</th>\n",
       "      <td>5</td>\n",
       "      <td>public_payer</td>\n",
       "      <td>NaN</td>\n",
       "      <td>7.657286</td>\n",
       "    </tr>\n",
       "  </tbody>\n",
       "</table>\n",
       "</div>"
      ],
      "text/plain": [
       "   Unnamed: 0             pred  \\\n",
       "0           1             race   \n",
       "1           2   MARITAL_STATUS   \n",
       "2           3    dx_ICD9.296.7   \n",
       "3           4  dx_ICD10.Z00.00   \n",
       "4           5     public_payer   \n",
       "\n",
       "                                         description       Gini  \n",
       "0                                                NaN  14.742317  \n",
       "1                                                NaN  14.061233  \n",
       "2            Bipolar affective disorder, unspecified   8.977609  \n",
       "3  Encounter for general adult medical examinatio...   7.877645  \n",
       "4                                                NaN   7.657286  "
      ]
     },
     "execution_count": 25,
     "metadata": {},
     "output_type": "execute_result"
    }
   ],
   "source": [
    "preds = pd.read_csv('top_predictors_window5y_age30.csv')\n",
    "preds.head()"
   ]
  },
  {
   "cell_type": "code",
   "execution_count": 3,
   "id": "22c5a2a6-49f7-479b-804b-8ef0010d1434",
   "metadata": {},
   "outputs": [
    {
     "data": {
      "text/plain": [
       "'Bipolar affective disorder, unspecified'"
      ]
     },
     "execution_count": 3,
     "metadata": {},
     "output_type": "execute_result"
    }
   ],
   "source": [
    "list(preds[preds['pred']=='dx_ICD9.296.7']['description'])[0]"
   ]
  },
  {
   "cell_type": "code",
   "execution_count": 4,
   "id": "3bd9787e-f9ff-4631-81fa-0b9be2c164d9",
   "metadata": {},
   "outputs": [],
   "source": [
    "df_cases = pd.read_csv('cases.csv')\n",
    "df_cases = df_cases.rename(columns={'Unnamed: 0': 'patient_id'})"
   ]
  },
  {
   "cell_type": "code",
   "execution_count": 25,
   "id": "4a488cce-2fda-4a93-9fad-03c626e3db96",
   "metadata": {},
   "outputs": [],
   "source": [
    "df_all = pd.read_csv('df_with_race_all_ages.csv')"
   ]
  },
  {
   "cell_type": "code",
   "execution_count": null,
   "id": "e837e021-d470-4404-a29d-8392631ff83a",
   "metadata": {},
   "outputs": [],
   "source": [
    "training = pd.read_csv('training.csv')"
   ]
  },
  {
   "cell_type": "code",
   "execution_count": 37,
   "id": "e7686876-80d0-4da0-8956-a71d6abadcb0",
   "metadata": {},
   "outputs": [
    {
     "data": {
      "text/plain": [
       "126226"
      ]
     },
     "execution_count": 37,
     "metadata": {},
     "output_type": "execute_result"
    }
   ],
   "source": [
    "len(training)"
   ]
  },
  {
   "cell_type": "code",
   "execution_count": 6,
   "id": "100330d9-d7cd-4eee-bd5a-894c26675646",
   "metadata": {},
   "outputs": [
    {
     "name": "stdout",
     "output_type": "stream",
     "text": [
      "Num cases: 5267\n"
     ]
    }
   ],
   "source": [
    "print('Num cases:', len(df_cases))"
   ]
  },
  {
   "cell_type": "code",
   "execution_count": 7,
   "id": "811e4113-f481-43f3-abdb-7a41f60243ef",
   "metadata": {},
   "outputs": [
    {
     "data": {
      "text/html": [
       "<div>\n",
       "<style scoped>\n",
       "    .dataframe tbody tr th:only-of-type {\n",
       "        vertical-align: middle;\n",
       "    }\n",
       "\n",
       "    .dataframe tbody tr th {\n",
       "        vertical-align: top;\n",
       "    }\n",
       "\n",
       "    .dataframe thead th {\n",
       "        text-align: right;\n",
       "    }\n",
       "</style>\n",
       "<table border=\"1\" class=\"dataframe\">\n",
       "  <thead>\n",
       "    <tr style=\"text-align: right;\">\n",
       "      <th></th>\n",
       "      <th>patient_id</th>\n",
       "      <th>subject_num</th>\n",
       "      <th>birth_date</th>\n",
       "      <th>table1_narrow_count</th>\n",
       "      <th>table1_narrow_start</th>\n",
       "      <th>table1_narrow_start_age</th>\n",
       "      <th>table1_broad_count</th>\n",
       "      <th>table1_broad_start</th>\n",
       "      <th>table1_broad_start_age</th>\n",
       "      <th>table1_hybrid_count</th>\n",
       "      <th>...</th>\n",
       "      <th>table2_count</th>\n",
       "      <th>table2_start</th>\n",
       "      <th>table2_start_age</th>\n",
       "      <th>table3_count</th>\n",
       "      <th>table3_start</th>\n",
       "      <th>table1_count</th>\n",
       "      <th>table1_start</th>\n",
       "      <th>table1_start_age</th>\n",
       "      <th>index_date</th>\n",
       "      <th>index_age</th>\n",
       "    </tr>\n",
       "  </thead>\n",
       "  <tbody>\n",
       "    <tr>\n",
       "      <th>0</th>\n",
       "      <td>184</td>\n",
       "      <td>10159284</td>\n",
       "      <td>1986-04-26</td>\n",
       "      <td>1</td>\n",
       "      <td>2007-05-12</td>\n",
       "      <td>21.1</td>\n",
       "      <td>2</td>\n",
       "      <td>2007-05-12</td>\n",
       "      <td>21.1</td>\n",
       "      <td>2</td>\n",
       "      <td>...</td>\n",
       "      <td>0</td>\n",
       "      <td>NaN</td>\n",
       "      <td>NaN</td>\n",
       "      <td>1</td>\n",
       "      <td>2007-05-12</td>\n",
       "      <td>2</td>\n",
       "      <td>2007-05-12</td>\n",
       "      <td>21.1</td>\n",
       "      <td>2007-05-12</td>\n",
       "      <td>21.1</td>\n",
       "    </tr>\n",
       "    <tr>\n",
       "      <th>1</th>\n",
       "      <td>207</td>\n",
       "      <td>11479020</td>\n",
       "      <td>1987-08-31</td>\n",
       "      <td>6</td>\n",
       "      <td>2008-10-12</td>\n",
       "      <td>21.1</td>\n",
       "      <td>8</td>\n",
       "      <td>2006-02-06</td>\n",
       "      <td>18.4</td>\n",
       "      <td>7</td>\n",
       "      <td>...</td>\n",
       "      <td>0</td>\n",
       "      <td>NaN</td>\n",
       "      <td>NaN</td>\n",
       "      <td>0</td>\n",
       "      <td>NaN</td>\n",
       "      <td>8</td>\n",
       "      <td>2006-02-06</td>\n",
       "      <td>18.4</td>\n",
       "      <td>2006-02-06</td>\n",
       "      <td>18.4</td>\n",
       "    </tr>\n",
       "    <tr>\n",
       "      <th>2</th>\n",
       "      <td>239</td>\n",
       "      <td>12160476</td>\n",
       "      <td>1987-08-20</td>\n",
       "      <td>15</td>\n",
       "      <td>2019-12-09</td>\n",
       "      <td>32.3</td>\n",
       "      <td>15</td>\n",
       "      <td>2019-12-09</td>\n",
       "      <td>32.3</td>\n",
       "      <td>15</td>\n",
       "      <td>...</td>\n",
       "      <td>0</td>\n",
       "      <td>NaN</td>\n",
       "      <td>NaN</td>\n",
       "      <td>0</td>\n",
       "      <td>NaN</td>\n",
       "      <td>15</td>\n",
       "      <td>2019-12-09</td>\n",
       "      <td>32.3</td>\n",
       "      <td>2019-12-09</td>\n",
       "      <td>32.3</td>\n",
       "    </tr>\n",
       "    <tr>\n",
       "      <th>3</th>\n",
       "      <td>337</td>\n",
       "      <td>12061753</td>\n",
       "      <td>1986-05-10</td>\n",
       "      <td>9</td>\n",
       "      <td>2014-08-31</td>\n",
       "      <td>28.3</td>\n",
       "      <td>9</td>\n",
       "      <td>2014-08-31</td>\n",
       "      <td>28.3</td>\n",
       "      <td>9</td>\n",
       "      <td>...</td>\n",
       "      <td>0</td>\n",
       "      <td>NaN</td>\n",
       "      <td>NaN</td>\n",
       "      <td>5</td>\n",
       "      <td>2014-08-31</td>\n",
       "      <td>9</td>\n",
       "      <td>2014-08-31</td>\n",
       "      <td>28.3</td>\n",
       "      <td>2014-08-31</td>\n",
       "      <td>28.3</td>\n",
       "    </tr>\n",
       "    <tr>\n",
       "      <th>4</th>\n",
       "      <td>436</td>\n",
       "      <td>12752558</td>\n",
       "      <td>2001-08-14</td>\n",
       "      <td>24</td>\n",
       "      <td>2020-02-28</td>\n",
       "      <td>18.6</td>\n",
       "      <td>24</td>\n",
       "      <td>2020-02-28</td>\n",
       "      <td>18.6</td>\n",
       "      <td>24</td>\n",
       "      <td>...</td>\n",
       "      <td>0</td>\n",
       "      <td>NaN</td>\n",
       "      <td>NaN</td>\n",
       "      <td>0</td>\n",
       "      <td>NaN</td>\n",
       "      <td>24</td>\n",
       "      <td>2020-02-28</td>\n",
       "      <td>18.6</td>\n",
       "      <td>2020-02-28</td>\n",
       "      <td>18.6</td>\n",
       "    </tr>\n",
       "    <tr>\n",
       "      <th>...</th>\n",
       "      <td>...</td>\n",
       "      <td>...</td>\n",
       "      <td>...</td>\n",
       "      <td>...</td>\n",
       "      <td>...</td>\n",
       "      <td>...</td>\n",
       "      <td>...</td>\n",
       "      <td>...</td>\n",
       "      <td>...</td>\n",
       "      <td>...</td>\n",
       "      <td>...</td>\n",
       "      <td>...</td>\n",
       "      <td>...</td>\n",
       "      <td>...</td>\n",
       "      <td>...</td>\n",
       "      <td>...</td>\n",
       "      <td>...</td>\n",
       "      <td>...</td>\n",
       "      <td>...</td>\n",
       "      <td>...</td>\n",
       "      <td>...</td>\n",
       "    </tr>\n",
       "    <tr>\n",
       "      <th>5262</th>\n",
       "      <td>1328341</td>\n",
       "      <td>12419659</td>\n",
       "      <td>1992-09-28</td>\n",
       "      <td>3</td>\n",
       "      <td>2019-02-21</td>\n",
       "      <td>26.4</td>\n",
       "      <td>3</td>\n",
       "      <td>2019-02-21</td>\n",
       "      <td>26.4</td>\n",
       "      <td>3</td>\n",
       "      <td>...</td>\n",
       "      <td>0</td>\n",
       "      <td>NaN</td>\n",
       "      <td>NaN</td>\n",
       "      <td>0</td>\n",
       "      <td>NaN</td>\n",
       "      <td>3</td>\n",
       "      <td>2019-02-21</td>\n",
       "      <td>26.4</td>\n",
       "      <td>2019-02-21</td>\n",
       "      <td>26.4</td>\n",
       "    </tr>\n",
       "    <tr>\n",
       "      <th>5263</th>\n",
       "      <td>1328521</td>\n",
       "      <td>10428995</td>\n",
       "      <td>2002-09-02</td>\n",
       "      <td>2</td>\n",
       "      <td>2020-05-17</td>\n",
       "      <td>17.7</td>\n",
       "      <td>10</td>\n",
       "      <td>2020-04-30</td>\n",
       "      <td>17.7</td>\n",
       "      <td>10</td>\n",
       "      <td>...</td>\n",
       "      <td>0</td>\n",
       "      <td>NaN</td>\n",
       "      <td>NaN</td>\n",
       "      <td>0</td>\n",
       "      <td>NaN</td>\n",
       "      <td>10</td>\n",
       "      <td>2020-04-30</td>\n",
       "      <td>17.7</td>\n",
       "      <td>2020-04-30</td>\n",
       "      <td>17.7</td>\n",
       "    </tr>\n",
       "    <tr>\n",
       "      <th>5264</th>\n",
       "      <td>1328731</td>\n",
       "      <td>12456174</td>\n",
       "      <td>1993-06-11</td>\n",
       "      <td>2</td>\n",
       "      <td>2018-10-23</td>\n",
       "      <td>25.4</td>\n",
       "      <td>2</td>\n",
       "      <td>2018-10-23</td>\n",
       "      <td>25.4</td>\n",
       "      <td>2</td>\n",
       "      <td>...</td>\n",
       "      <td>0</td>\n",
       "      <td>NaN</td>\n",
       "      <td>NaN</td>\n",
       "      <td>0</td>\n",
       "      <td>NaN</td>\n",
       "      <td>2</td>\n",
       "      <td>2018-10-23</td>\n",
       "      <td>25.4</td>\n",
       "      <td>2018-10-23</td>\n",
       "      <td>25.4</td>\n",
       "    </tr>\n",
       "    <tr>\n",
       "      <th>5265</th>\n",
       "      <td>1329127</td>\n",
       "      <td>11048025</td>\n",
       "      <td>2003-02-23</td>\n",
       "      <td>2</td>\n",
       "      <td>2019-01-19</td>\n",
       "      <td>15.9</td>\n",
       "      <td>2</td>\n",
       "      <td>2019-01-19</td>\n",
       "      <td>15.9</td>\n",
       "      <td>2</td>\n",
       "      <td>...</td>\n",
       "      <td>0</td>\n",
       "      <td>NaN</td>\n",
       "      <td>NaN</td>\n",
       "      <td>0</td>\n",
       "      <td>NaN</td>\n",
       "      <td>2</td>\n",
       "      <td>2019-01-19</td>\n",
       "      <td>15.9</td>\n",
       "      <td>2019-01-19</td>\n",
       "      <td>15.9</td>\n",
       "    </tr>\n",
       "    <tr>\n",
       "      <th>5266</th>\n",
       "      <td>1329176</td>\n",
       "      <td>11989516</td>\n",
       "      <td>1986-05-14</td>\n",
       "      <td>7</td>\n",
       "      <td>2018-05-14</td>\n",
       "      <td>32.0</td>\n",
       "      <td>7</td>\n",
       "      <td>2018-05-14</td>\n",
       "      <td>32.0</td>\n",
       "      <td>7</td>\n",
       "      <td>...</td>\n",
       "      <td>0</td>\n",
       "      <td>NaN</td>\n",
       "      <td>NaN</td>\n",
       "      <td>0</td>\n",
       "      <td>NaN</td>\n",
       "      <td>7</td>\n",
       "      <td>2018-05-14</td>\n",
       "      <td>32.0</td>\n",
       "      <td>2018-05-14</td>\n",
       "      <td>32.0</td>\n",
       "    </tr>\n",
       "  </tbody>\n",
       "</table>\n",
       "<p>5267 rows × 22 columns</p>\n",
       "</div>"
      ],
      "text/plain": [
       "      patient_id  subject_num  birth_date  table1_narrow_count  \\\n",
       "0            184     10159284  1986-04-26                    1   \n",
       "1            207     11479020  1987-08-31                    6   \n",
       "2            239     12160476  1987-08-20                   15   \n",
       "3            337     12061753  1986-05-10                    9   \n",
       "4            436     12752558  2001-08-14                   24   \n",
       "...          ...          ...         ...                  ...   \n",
       "5262     1328341     12419659  1992-09-28                    3   \n",
       "5263     1328521     10428995  2002-09-02                    2   \n",
       "5264     1328731     12456174  1993-06-11                    2   \n",
       "5265     1329127     11048025  2003-02-23                    2   \n",
       "5266     1329176     11989516  1986-05-14                    7   \n",
       "\n",
       "     table1_narrow_start  table1_narrow_start_age  table1_broad_count  \\\n",
       "0             2007-05-12                     21.1                   2   \n",
       "1             2008-10-12                     21.1                   8   \n",
       "2             2019-12-09                     32.3                  15   \n",
       "3             2014-08-31                     28.3                   9   \n",
       "4             2020-02-28                     18.6                  24   \n",
       "...                  ...                      ...                 ...   \n",
       "5262          2019-02-21                     26.4                   3   \n",
       "5263          2020-05-17                     17.7                  10   \n",
       "5264          2018-10-23                     25.4                   2   \n",
       "5265          2019-01-19                     15.9                   2   \n",
       "5266          2018-05-14                     32.0                   7   \n",
       "\n",
       "     table1_broad_start  table1_broad_start_age  table1_hybrid_count  ...  \\\n",
       "0            2007-05-12                    21.1                    2  ...   \n",
       "1            2006-02-06                    18.4                    7  ...   \n",
       "2            2019-12-09                    32.3                   15  ...   \n",
       "3            2014-08-31                    28.3                    9  ...   \n",
       "4            2020-02-28                    18.6                   24  ...   \n",
       "...                 ...                     ...                  ...  ...   \n",
       "5262         2019-02-21                    26.4                    3  ...   \n",
       "5263         2020-04-30                    17.7                   10  ...   \n",
       "5264         2018-10-23                    25.4                    2  ...   \n",
       "5265         2019-01-19                    15.9                    2  ...   \n",
       "5266         2018-05-14                    32.0                    7  ...   \n",
       "\n",
       "     table2_count  table2_start  table2_start_age table3_count  table3_start  \\\n",
       "0               0           NaN               NaN            1    2007-05-12   \n",
       "1               0           NaN               NaN            0           NaN   \n",
       "2               0           NaN               NaN            0           NaN   \n",
       "3               0           NaN               NaN            5    2014-08-31   \n",
       "4               0           NaN               NaN            0           NaN   \n",
       "...           ...           ...               ...          ...           ...   \n",
       "5262            0           NaN               NaN            0           NaN   \n",
       "5263            0           NaN               NaN            0           NaN   \n",
       "5264            0           NaN               NaN            0           NaN   \n",
       "5265            0           NaN               NaN            0           NaN   \n",
       "5266            0           NaN               NaN            0           NaN   \n",
       "\n",
       "      table1_count table1_start  table1_start_age  index_date  index_age  \n",
       "0                2   2007-05-12              21.1  2007-05-12       21.1  \n",
       "1                8   2006-02-06              18.4  2006-02-06       18.4  \n",
       "2               15   2019-12-09              32.3  2019-12-09       32.3  \n",
       "3                9   2014-08-31              28.3  2014-08-31       28.3  \n",
       "4               24   2020-02-28              18.6  2020-02-28       18.6  \n",
       "...            ...          ...               ...         ...        ...  \n",
       "5262             3   2019-02-21              26.4  2019-02-21       26.4  \n",
       "5263            10   2020-04-30              17.7  2020-04-30       17.7  \n",
       "5264             2   2018-10-23              25.4  2018-10-23       25.4  \n",
       "5265             2   2019-01-19              15.9  2019-01-19       15.9  \n",
       "5266             7   2018-05-14              32.0  2018-05-14       32.0  \n",
       "\n",
       "[5267 rows x 22 columns]"
      ]
     },
     "execution_count": 7,
     "metadata": {},
     "output_type": "execute_result"
    }
   ],
   "source": [
    "df_cases"
   ]
  },
  {
   "cell_type": "code",
   "execution_count": 9,
   "id": "8e0a43dc-3dfc-4ab7-a349-b0711b046a25",
   "metadata": {},
   "outputs": [
    {
     "data": {
      "text/plain": [
       "733"
      ]
     },
     "execution_count": 9,
     "metadata": {},
     "output_type": "execute_result"
    }
   ],
   "source": [
    "# 15-20\n",
    "len(df_cases[df_cases['table1_narrow_start_age'].apply(lambda x: x >= 15 and x < 20)])"
   ]
  },
  {
   "cell_type": "code",
   "execution_count": 10,
   "id": "b917060c-cb28-4bed-8e61-af48a83d51c5",
   "metadata": {},
   "outputs": [
    {
     "data": {
      "text/plain": [
       "1316"
      ]
     },
     "execution_count": 10,
     "metadata": {},
     "output_type": "execute_result"
    }
   ],
   "source": [
    "# 20-25\n",
    "len(df_cases[df_cases['table1_narrow_start_age'].apply(lambda x: x >= 20 and x < 25)])"
   ]
  },
  {
   "cell_type": "code",
   "execution_count": 11,
   "id": "ad0b5bdb-0863-43ed-b0d1-0664ed086d78",
   "metadata": {},
   "outputs": [
    {
     "data": {
      "text/plain": [
       "1360"
      ]
     },
     "execution_count": 11,
     "metadata": {},
     "output_type": "execute_result"
    }
   ],
   "source": [
    "# 25-30\n",
    "len(df_cases[df_cases['table1_narrow_start_age'].apply(lambda x: x >= 25 and x < 30)])"
   ]
  },
  {
   "cell_type": "code",
   "execution_count": 12,
   "id": "62450cdc-58e9-4932-a320-05c8a859650e",
   "metadata": {},
   "outputs": [
    {
     "data": {
      "text/plain": [
       "1394"
      ]
     },
     "execution_count": 12,
     "metadata": {},
     "output_type": "execute_result"
    }
   ],
   "source": [
    "# 30-35\n",
    "len(df_cases[df_cases['table1_narrow_start_age'].apply(lambda x: x >= 30 and x < 35)])"
   ]
  },
  {
   "cell_type": "code",
   "execution_count": 13,
   "id": "333ea5f7-05a4-4a70-bc25-f7ac78f792a2",
   "metadata": {},
   "outputs": [
    {
     "data": {
      "text/plain": [
       "4803"
      ]
     },
     "execution_count": 13,
     "metadata": {},
     "output_type": "execute_result"
    }
   ],
   "source": [
    "733+1316+1360+1394"
   ]
  },
  {
   "cell_type": "code",
   "execution_count": 16,
   "id": "ccc55d01-7e95-4945-b712-fdd350636909",
   "metadata": {},
   "outputs": [
    {
     "data": {
      "text/plain": [
       "0.27399541952946077"
      ]
     },
     "execution_count": 16,
     "metadata": {},
     "output_type": "execute_result"
    }
   ],
   "source": [
    "1316/4803"
   ]
  },
  {
   "cell_type": "markdown",
   "id": "2af05e49-5947-4765-baff-f2fb2a563a1f",
   "metadata": {},
   "source": [
    "# Prevalence for Study Population"
   ]
  },
  {
   "cell_type": "code",
   "execution_count": 23,
   "id": "3d014350-cef5-469a-ac13-5d7ab222953f",
   "metadata": {},
   "outputs": [
    {
     "name": "stdout",
     "output_type": "stream",
     "text": [
      "Total study population White:  62839\n",
      "Cases study population White:  935\n",
      "Prevalence White:  1.49 %\n",
      "\n",
      "Total study population Black:  9052\n",
      "Cases study population Black:  236\n",
      "Prevalence Black:  2.61 %\n",
      "\n",
      "Total study population Asian:  3721\n",
      "Cases study population Asian:  51\n",
      "Prevalence Asian:  1.37 %\n",
      "\n",
      "Total study population Other:  9004\n",
      "Cases study population Other:  145\n",
      "Prevalence Other:  1.61 %\n",
      "\n",
      "Total study population Unknown:  6975\n",
      "Cases study population Unknown:  130\n",
      "Prevalence Unknown:  1.86 %\n",
      "\n"
     ]
    }
   ],
   "source": [
    "race_list = ['White', 'Black', 'Asian', 'Other', 'Unknown']\n",
    "\n",
    "for race in race_list:\n",
    "    total_per_race = df_all[df_all['race']==race]\n",
    "    num_race = len(total_per_race)\n",
    "    num_cases_per_race = len(total_per_race[total_per_race['isCase']==1])\n",
    "    \n",
    "    print(f'Total study population {race}: ', num_race)\n",
    "    print(f'Cases study population {race}: ', num_cases_per_race)\n",
    "    print(f'Prevalence {race}: ', round((num_cases_per_race/float(num_race))*100, 2), '%')\n",
    "    print()"
   ]
  },
  {
   "cell_type": "markdown",
   "id": "5edbef81-454c-4f7f-98b2-1f98cca84623",
   "metadata": {},
   "source": [
    "# Race Breakdown of Cases"
   ]
  },
  {
   "cell_type": "code",
   "execution_count": 33,
   "id": "c2516140-e1da-486d-94bf-58b289aaefdd",
   "metadata": {},
   "outputs": [
    {
     "data": {
      "text/html": [
       "<div>\n",
       "<style scoped>\n",
       "    .dataframe tbody tr th:only-of-type {\n",
       "        vertical-align: middle;\n",
       "    }\n",
       "\n",
       "    .dataframe tbody tr th {\n",
       "        vertical-align: top;\n",
       "    }\n",
       "\n",
       "    .dataframe thead th {\n",
       "        text-align: right;\n",
       "    }\n",
       "</style>\n",
       "<table border=\"1\" class=\"dataframe\">\n",
       "  <thead>\n",
       "    <tr style=\"text-align: right;\">\n",
       "      <th></th>\n",
       "      <th>subject_num</th>\n",
       "      <th>gender</th>\n",
       "      <th>sbirth_date</th>\n",
       "      <th>race</th>\n",
       "      <th>veteran</th>\n",
       "      <th>marital_status</th>\n",
       "      <th>ethnicity</th>\n",
       "      <th>deceased</th>\n",
       "      <th>sdeath_date</th>\n",
       "      <th>biobank_genotyped</th>\n",
       "      <th>current_zip3</th>\n",
       "      <th>currentzip_medianincome_2010</th>\n",
       "      <th>visit_count</th>\n",
       "      <th>fact_count</th>\n",
       "      <th>icd_count</th>\n",
       "      <th>icd_first_sdate</th>\n",
       "      <th>cpt_count</th>\n",
       "      <th>cpt_first_sdate</th>\n",
       "      <th>public_payer</th>\n",
       "      <th>notes_ct</th>\n",
       "    </tr>\n",
       "  </thead>\n",
       "  <tbody>\n",
       "    <tr>\n",
       "      <th>0</th>\n",
       "      <td>10985687</td>\n",
       "      <td>M</td>\n",
       "      <td>1969-06-16</td>\n",
       "      <td>Black</td>\n",
       "      <td>U</td>\n",
       "      <td>Married</td>\n",
       "      <td>Non-Hispanic</td>\n",
       "      <td>N</td>\n",
       "      <td>NaN</td>\n",
       "      <td>NaN</td>\n",
       "      <td>020</td>\n",
       "      <td>69340.0</td>\n",
       "      <td>49.0</td>\n",
       "      <td>547.0</td>\n",
       "      <td>231.0</td>\n",
       "      <td>05/03/1998</td>\n",
       "      <td>261.0</td>\n",
       "      <td>05/03/1998</td>\n",
       "      <td>0</td>\n",
       "      <td>94.0</td>\n",
       "    </tr>\n",
       "    <tr>\n",
       "      <th>1</th>\n",
       "      <td>11664128</td>\n",
       "      <td>F</td>\n",
       "      <td>1966-10-02</td>\n",
       "      <td>White</td>\n",
       "      <td>U</td>\n",
       "      <td>Single</td>\n",
       "      <td>Non-Hispanic</td>\n",
       "      <td>Y</td>\n",
       "      <td>09/20/2008</td>\n",
       "      <td>NaN</td>\n",
       "      <td>020</td>\n",
       "      <td>85131.0</td>\n",
       "      <td>91.0</td>\n",
       "      <td>710.0</td>\n",
       "      <td>391.0</td>\n",
       "      <td>09/08/1999</td>\n",
       "      <td>312.0</td>\n",
       "      <td>09/08/1999</td>\n",
       "      <td>1</td>\n",
       "      <td>145.0</td>\n",
       "    </tr>\n",
       "    <tr>\n",
       "      <th>2</th>\n",
       "      <td>12095563</td>\n",
       "      <td>F</td>\n",
       "      <td>1970-08-10</td>\n",
       "      <td>Unknown</td>\n",
       "      <td>N</td>\n",
       "      <td>Single</td>\n",
       "      <td>Hispanic</td>\n",
       "      <td>N</td>\n",
       "      <td>NaN</td>\n",
       "      <td>NaN</td>\n",
       "      <td>021</td>\n",
       "      <td>30282.0</td>\n",
       "      <td>304.0</td>\n",
       "      <td>1615.0</td>\n",
       "      <td>693.0</td>\n",
       "      <td>01/17/1998</td>\n",
       "      <td>745.0</td>\n",
       "      <td>01/17/1998</td>\n",
       "      <td>1</td>\n",
       "      <td>353.0</td>\n",
       "    </tr>\n",
       "    <tr>\n",
       "      <th>3</th>\n",
       "      <td>12021239</td>\n",
       "      <td>M</td>\n",
       "      <td>1968-02-22</td>\n",
       "      <td>Black</td>\n",
       "      <td>N</td>\n",
       "      <td>Single</td>\n",
       "      <td>Non-Hispanic</td>\n",
       "      <td>N</td>\n",
       "      <td>NaN</td>\n",
       "      <td>NaN</td>\n",
       "      <td>019</td>\n",
       "      <td>38107.0</td>\n",
       "      <td>18.0</td>\n",
       "      <td>225.0</td>\n",
       "      <td>99.0</td>\n",
       "      <td>07/27/1998</td>\n",
       "      <td>117.0</td>\n",
       "      <td>07/27/1998</td>\n",
       "      <td>1</td>\n",
       "      <td>37.0</td>\n",
       "    </tr>\n",
       "    <tr>\n",
       "      <th>4</th>\n",
       "      <td>10341333</td>\n",
       "      <td>F</td>\n",
       "      <td>1968-01-18</td>\n",
       "      <td>White</td>\n",
       "      <td>N</td>\n",
       "      <td>Married</td>\n",
       "      <td>Non-Hispanic</td>\n",
       "      <td>N</td>\n",
       "      <td>NaN</td>\n",
       "      <td>NaN</td>\n",
       "      <td>023</td>\n",
       "      <td>62408.0</td>\n",
       "      <td>392.0</td>\n",
       "      <td>2024.0</td>\n",
       "      <td>1056.0</td>\n",
       "      <td>01/08/1998</td>\n",
       "      <td>762.0</td>\n",
       "      <td>01/08/1998</td>\n",
       "      <td>0</td>\n",
       "      <td>364.0</td>\n",
       "    </tr>\n",
       "    <tr>\n",
       "      <th>...</th>\n",
       "      <td>...</td>\n",
       "      <td>...</td>\n",
       "      <td>...</td>\n",
       "      <td>...</td>\n",
       "      <td>...</td>\n",
       "      <td>...</td>\n",
       "      <td>...</td>\n",
       "      <td>...</td>\n",
       "      <td>...</td>\n",
       "      <td>...</td>\n",
       "      <td>...</td>\n",
       "      <td>...</td>\n",
       "      <td>...</td>\n",
       "      <td>...</td>\n",
       "      <td>...</td>\n",
       "      <td>...</td>\n",
       "      <td>...</td>\n",
       "      <td>...</td>\n",
       "      <td>...</td>\n",
       "      <td>...</td>\n",
       "    </tr>\n",
       "    <tr>\n",
       "      <th>1329191</th>\n",
       "      <td>12470877</td>\n",
       "      <td>M</td>\n",
       "      <td>1986-06-08</td>\n",
       "      <td>Asian</td>\n",
       "      <td>N</td>\n",
       "      <td>Married</td>\n",
       "      <td>Non-Hispanic</td>\n",
       "      <td>N</td>\n",
       "      <td>NaN</td>\n",
       "      <td>NaN</td>\n",
       "      <td>024</td>\n",
       "      <td>128598.0</td>\n",
       "      <td>57.0</td>\n",
       "      <td>197.0</td>\n",
       "      <td>121.0</td>\n",
       "      <td>02/14/2017</td>\n",
       "      <td>48.0</td>\n",
       "      <td>10/01/2017</td>\n",
       "      <td>0</td>\n",
       "      <td>37.0</td>\n",
       "    </tr>\n",
       "    <tr>\n",
       "      <th>1329192</th>\n",
       "      <td>11706242</td>\n",
       "      <td>M</td>\n",
       "      <td>2001-08-05</td>\n",
       "      <td>Black</td>\n",
       "      <td>U</td>\n",
       "      <td>Single</td>\n",
       "      <td>Non-Hispanic</td>\n",
       "      <td>N</td>\n",
       "      <td>NaN</td>\n",
       "      <td>NaN</td>\n",
       "      <td>021</td>\n",
       "      <td>62945.0</td>\n",
       "      <td>10.0</td>\n",
       "      <td>31.0</td>\n",
       "      <td>20.0</td>\n",
       "      <td>08/13/2015</td>\n",
       "      <td>6.0</td>\n",
       "      <td>01/21/2016</td>\n",
       "      <td>1</td>\n",
       "      <td>15.0</td>\n",
       "    </tr>\n",
       "    <tr>\n",
       "      <th>1329193</th>\n",
       "      <td>11181783</td>\n",
       "      <td>F</td>\n",
       "      <td>1996-12-13</td>\n",
       "      <td>White</td>\n",
       "      <td>N</td>\n",
       "      <td>Single</td>\n",
       "      <td>Non-Hispanic</td>\n",
       "      <td>N</td>\n",
       "      <td>NaN</td>\n",
       "      <td>NaN</td>\n",
       "      <td>020</td>\n",
       "      <td>164583.0</td>\n",
       "      <td>27.0</td>\n",
       "      <td>106.0</td>\n",
       "      <td>35.0</td>\n",
       "      <td>04/14/2001</td>\n",
       "      <td>40.0</td>\n",
       "      <td>04/14/2001</td>\n",
       "      <td>0</td>\n",
       "      <td>8.0</td>\n",
       "    </tr>\n",
       "    <tr>\n",
       "      <th>1329194</th>\n",
       "      <td>12796490</td>\n",
       "      <td>M</td>\n",
       "      <td>1966-04-14</td>\n",
       "      <td>Black</td>\n",
       "      <td>N</td>\n",
       "      <td>Divorced</td>\n",
       "      <td>Non-Hispanic</td>\n",
       "      <td>N</td>\n",
       "      <td>NaN</td>\n",
       "      <td>NaN</td>\n",
       "      <td>021</td>\n",
       "      <td>40344.0</td>\n",
       "      <td>8.0</td>\n",
       "      <td>118.0</td>\n",
       "      <td>36.0</td>\n",
       "      <td>08/09/2015</td>\n",
       "      <td>44.0</td>\n",
       "      <td>08/09/2015</td>\n",
       "      <td>1</td>\n",
       "      <td>26.0</td>\n",
       "    </tr>\n",
       "    <tr>\n",
       "      <th>1329195</th>\n",
       "      <td>12707492</td>\n",
       "      <td>F</td>\n",
       "      <td>1971-09-05</td>\n",
       "      <td>White</td>\n",
       "      <td>N</td>\n",
       "      <td>Married</td>\n",
       "      <td>Non-Hispanic</td>\n",
       "      <td>N</td>\n",
       "      <td>NaN</td>\n",
       "      <td>NaN</td>\n",
       "      <td>041</td>\n",
       "      <td>51529.0</td>\n",
       "      <td>3.0</td>\n",
       "      <td>15.0</td>\n",
       "      <td>4.0</td>\n",
       "      <td>08/15/2015</td>\n",
       "      <td>6.0</td>\n",
       "      <td>08/15/2015</td>\n",
       "      <td>0</td>\n",
       "      <td>5.0</td>\n",
       "    </tr>\n",
       "  </tbody>\n",
       "</table>\n",
       "<p>1329196 rows × 20 columns</p>\n",
       "</div>"
      ],
      "text/plain": [
       "         subject_num gender sbirth_date     race veteran marital_status  \\\n",
       "0           10985687      M  1969-06-16    Black       U        Married   \n",
       "1           11664128      F  1966-10-02    White       U         Single   \n",
       "2           12095563      F  1970-08-10  Unknown       N         Single   \n",
       "3           12021239      M  1968-02-22    Black       N         Single   \n",
       "4           10341333      F  1968-01-18    White       N        Married   \n",
       "...              ...    ...         ...      ...     ...            ...   \n",
       "1329191     12470877      M  1986-06-08    Asian       N        Married   \n",
       "1329192     11706242      M  2001-08-05    Black       U         Single   \n",
       "1329193     11181783      F  1996-12-13    White       N         Single   \n",
       "1329194     12796490      M  1966-04-14    Black       N       Divorced   \n",
       "1329195     12707492      F  1971-09-05    White       N        Married   \n",
       "\n",
       "            ethnicity deceased sdeath_date  biobank_genotyped current_zip3  \\\n",
       "0        Non-Hispanic        N         NaN                NaN          020   \n",
       "1        Non-Hispanic        Y  09/20/2008                NaN          020   \n",
       "2            Hispanic        N         NaN                NaN          021   \n",
       "3        Non-Hispanic        N         NaN                NaN          019   \n",
       "4        Non-Hispanic        N         NaN                NaN          023   \n",
       "...               ...      ...         ...                ...          ...   \n",
       "1329191  Non-Hispanic        N         NaN                NaN          024   \n",
       "1329192  Non-Hispanic        N         NaN                NaN          021   \n",
       "1329193  Non-Hispanic        N         NaN                NaN          020   \n",
       "1329194  Non-Hispanic        N         NaN                NaN          021   \n",
       "1329195  Non-Hispanic        N         NaN                NaN          041   \n",
       "\n",
       "         currentzip_medianincome_2010  visit_count  fact_count  icd_count  \\\n",
       "0                             69340.0         49.0       547.0      231.0   \n",
       "1                             85131.0         91.0       710.0      391.0   \n",
       "2                             30282.0        304.0      1615.0      693.0   \n",
       "3                             38107.0         18.0       225.0       99.0   \n",
       "4                             62408.0        392.0      2024.0     1056.0   \n",
       "...                               ...          ...         ...        ...   \n",
       "1329191                      128598.0         57.0       197.0      121.0   \n",
       "1329192                       62945.0         10.0        31.0       20.0   \n",
       "1329193                      164583.0         27.0       106.0       35.0   \n",
       "1329194                       40344.0          8.0       118.0       36.0   \n",
       "1329195                       51529.0          3.0        15.0        4.0   \n",
       "\n",
       "        icd_first_sdate  cpt_count cpt_first_sdate  public_payer  notes_ct  \n",
       "0            05/03/1998      261.0      05/03/1998             0      94.0  \n",
       "1            09/08/1999      312.0      09/08/1999             1     145.0  \n",
       "2            01/17/1998      745.0      01/17/1998             1     353.0  \n",
       "3            07/27/1998      117.0      07/27/1998             1      37.0  \n",
       "4            01/08/1998      762.0      01/08/1998             0     364.0  \n",
       "...                 ...        ...             ...           ...       ...  \n",
       "1329191      02/14/2017       48.0      10/01/2017             0      37.0  \n",
       "1329192      08/13/2015        6.0      01/21/2016             1      15.0  \n",
       "1329193      04/14/2001       40.0      04/14/2001             0       8.0  \n",
       "1329194      08/09/2015       44.0      08/09/2015             1      26.0  \n",
       "1329195      08/15/2015        6.0      08/15/2015             0       5.0  \n",
       "\n",
       "[1329196 rows x 20 columns]"
      ]
     },
     "execution_count": 33,
     "metadata": {},
     "output_type": "execute_result"
    }
   ],
   "source": [
    "df_race = pd.read_csv('./No_Race_Data/demographics.csv')\n",
    "df_race"
   ]
  },
  {
   "cell_type": "code",
   "execution_count": 39,
   "id": "1e2594cb-83d5-42c5-bccd-86f45ccf269b",
   "metadata": {},
   "outputs": [],
   "source": [
    "# list of race\n",
    "race_list = list(set(list(df_race['race'])))\n",
    "race_list\n",
    "\n",
    "# list of ages\n",
    "age_list = [15, 20, 25, 30]\n",
    "# index_age"
   ]
  },
  {
   "cell_type": "markdown",
   "id": "b8578820-382d-44b1-9cdb-18900f8e003e",
   "metadata": {},
   "source": [
    "### General race breakdown"
   ]
  },
  {
   "cell_type": "code",
   "execution_count": 7,
   "id": "58cd419d-ddd7-4ce3-8b67-0750b7586cfa",
   "metadata": {},
   "outputs": [
    {
     "name": "stdout",
     "output_type": "stream",
     "text": [
      "Race: Asian\n",
      "Total number of people of that race: 86148\n",
      "Number of cases of that race: 181\n",
      "Cases : Total percent of that race: 0.21%\n",
      "\n",
      "Race: Other\n",
      "Total number of people of that race: 135170\n",
      "Number of cases of that race: 494\n",
      "Cases : Total percent of that race: 0.365%\n",
      "\n",
      "Race: Unknown\n",
      "Total number of people of that race: 76041\n",
      "Number of cases of that race: 461\n",
      "Cases : Total percent of that race: 0.606%\n",
      "\n",
      "Race: White\n",
      "Total number of people of that race: 925894\n",
      "Number of cases of that race: 3329\n",
      "Cases : Total percent of that race: 0.36%\n",
      "\n",
      "Race: Black\n",
      "Total number of people of that race: 105943\n",
      "Number of cases of that race: 802\n",
      "Cases : Total percent of that race: 0.757%\n",
      "\n"
     ]
    }
   ],
   "source": [
    "cases_per_race_dict = {} # key: race; value: number of cases per race\n",
    "\n",
    "for race in race_list:\n",
    "    spec_race_df = df_race[df_race['race']==race]\n",
    "    num_patients_per_race = len(spec_race_df)\n",
    "    list_of_patients_per_race = list(spec_race_df['subject_num'])\n",
    "    num_cases_per_race = len(df_cases[df_cases['subject_num'].apply(lambda x: int(x) in list_of_patients_per_race)])\n",
    "    \n",
    "    cases_per_race_dict[race] = num_cases_per_race\n",
    "    \n",
    "    print(f'Race: {race}')\n",
    "    print(f'Total number of people of that race: {num_patients_per_race}')\n",
    "    print(f'Number of cases of that race: {num_cases_per_race}')\n",
    "    print(f'Cases : Total percent of that race: {round((num_cases_per_race / float(num_patients_per_race)) * 100, 3)}%')\n",
    "    print()"
   ]
  },
  {
   "cell_type": "code",
   "execution_count": 8,
   "id": "41754217-0a00-4aff-bfc6-a40227fca1cf",
   "metadata": {},
   "outputs": [
    {
     "data": {
      "text/html": [
       "<div>\n",
       "<style scoped>\n",
       "    .dataframe tbody tr th:only-of-type {\n",
       "        vertical-align: middle;\n",
       "    }\n",
       "\n",
       "    .dataframe tbody tr th {\n",
       "        vertical-align: top;\n",
       "    }\n",
       "\n",
       "    .dataframe thead th {\n",
       "        text-align: right;\n",
       "    }\n",
       "</style>\n",
       "<table border=\"1\" class=\"dataframe\">\n",
       "  <thead>\n",
       "    <tr style=\"text-align: right;\">\n",
       "      <th></th>\n",
       "      <th>subject_num</th>\n",
       "      <th>gender</th>\n",
       "      <th>sbirth_date</th>\n",
       "      <th>race</th>\n",
       "      <th>veteran</th>\n",
       "      <th>marital_status</th>\n",
       "      <th>ethnicity</th>\n",
       "      <th>deceased</th>\n",
       "      <th>sdeath_date</th>\n",
       "      <th>biobank_genotyped</th>\n",
       "      <th>current_zip3</th>\n",
       "      <th>currentzip_medianincome_2010</th>\n",
       "      <th>visit_count</th>\n",
       "      <th>fact_count</th>\n",
       "      <th>icd_count</th>\n",
       "      <th>icd_first_sdate</th>\n",
       "      <th>cpt_count</th>\n",
       "      <th>cpt_first_sdate</th>\n",
       "      <th>public_payer</th>\n",
       "      <th>notes_ct</th>\n",
       "    </tr>\n",
       "  </thead>\n",
       "  <tbody>\n",
       "    <tr>\n",
       "      <th>0</th>\n",
       "      <td>10985687</td>\n",
       "      <td>M</td>\n",
       "      <td>1969-06-16</td>\n",
       "      <td>Black</td>\n",
       "      <td>U</td>\n",
       "      <td>Married</td>\n",
       "      <td>Non-Hispanic</td>\n",
       "      <td>N</td>\n",
       "      <td>NaN</td>\n",
       "      <td>NaN</td>\n",
       "      <td>020</td>\n",
       "      <td>69340.0</td>\n",
       "      <td>49.0</td>\n",
       "      <td>547.0</td>\n",
       "      <td>231.0</td>\n",
       "      <td>05/03/1998</td>\n",
       "      <td>261.0</td>\n",
       "      <td>05/03/1998</td>\n",
       "      <td>0</td>\n",
       "      <td>94.0</td>\n",
       "    </tr>\n",
       "    <tr>\n",
       "      <th>1</th>\n",
       "      <td>11664128</td>\n",
       "      <td>F</td>\n",
       "      <td>1966-10-02</td>\n",
       "      <td>White</td>\n",
       "      <td>U</td>\n",
       "      <td>Single</td>\n",
       "      <td>Non-Hispanic</td>\n",
       "      <td>Y</td>\n",
       "      <td>09/20/2008</td>\n",
       "      <td>NaN</td>\n",
       "      <td>020</td>\n",
       "      <td>85131.0</td>\n",
       "      <td>91.0</td>\n",
       "      <td>710.0</td>\n",
       "      <td>391.0</td>\n",
       "      <td>09/08/1999</td>\n",
       "      <td>312.0</td>\n",
       "      <td>09/08/1999</td>\n",
       "      <td>1</td>\n",
       "      <td>145.0</td>\n",
       "    </tr>\n",
       "    <tr>\n",
       "      <th>2</th>\n",
       "      <td>12095563</td>\n",
       "      <td>F</td>\n",
       "      <td>1970-08-10</td>\n",
       "      <td>Unknown</td>\n",
       "      <td>N</td>\n",
       "      <td>Single</td>\n",
       "      <td>Hispanic</td>\n",
       "      <td>N</td>\n",
       "      <td>NaN</td>\n",
       "      <td>NaN</td>\n",
       "      <td>021</td>\n",
       "      <td>30282.0</td>\n",
       "      <td>304.0</td>\n",
       "      <td>1615.0</td>\n",
       "      <td>693.0</td>\n",
       "      <td>01/17/1998</td>\n",
       "      <td>745.0</td>\n",
       "      <td>01/17/1998</td>\n",
       "      <td>1</td>\n",
       "      <td>353.0</td>\n",
       "    </tr>\n",
       "    <tr>\n",
       "      <th>3</th>\n",
       "      <td>12021239</td>\n",
       "      <td>M</td>\n",
       "      <td>1968-02-22</td>\n",
       "      <td>Black</td>\n",
       "      <td>N</td>\n",
       "      <td>Single</td>\n",
       "      <td>Non-Hispanic</td>\n",
       "      <td>N</td>\n",
       "      <td>NaN</td>\n",
       "      <td>NaN</td>\n",
       "      <td>019</td>\n",
       "      <td>38107.0</td>\n",
       "      <td>18.0</td>\n",
       "      <td>225.0</td>\n",
       "      <td>99.0</td>\n",
       "      <td>07/27/1998</td>\n",
       "      <td>117.0</td>\n",
       "      <td>07/27/1998</td>\n",
       "      <td>1</td>\n",
       "      <td>37.0</td>\n",
       "    </tr>\n",
       "    <tr>\n",
       "      <th>4</th>\n",
       "      <td>10341333</td>\n",
       "      <td>F</td>\n",
       "      <td>1968-01-18</td>\n",
       "      <td>White</td>\n",
       "      <td>N</td>\n",
       "      <td>Married</td>\n",
       "      <td>Non-Hispanic</td>\n",
       "      <td>N</td>\n",
       "      <td>NaN</td>\n",
       "      <td>NaN</td>\n",
       "      <td>023</td>\n",
       "      <td>62408.0</td>\n",
       "      <td>392.0</td>\n",
       "      <td>2024.0</td>\n",
       "      <td>1056.0</td>\n",
       "      <td>01/08/1998</td>\n",
       "      <td>762.0</td>\n",
       "      <td>01/08/1998</td>\n",
       "      <td>0</td>\n",
       "      <td>364.0</td>\n",
       "    </tr>\n",
       "    <tr>\n",
       "      <th>...</th>\n",
       "      <td>...</td>\n",
       "      <td>...</td>\n",
       "      <td>...</td>\n",
       "      <td>...</td>\n",
       "      <td>...</td>\n",
       "      <td>...</td>\n",
       "      <td>...</td>\n",
       "      <td>...</td>\n",
       "      <td>...</td>\n",
       "      <td>...</td>\n",
       "      <td>...</td>\n",
       "      <td>...</td>\n",
       "      <td>...</td>\n",
       "      <td>...</td>\n",
       "      <td>...</td>\n",
       "      <td>...</td>\n",
       "      <td>...</td>\n",
       "      <td>...</td>\n",
       "      <td>...</td>\n",
       "      <td>...</td>\n",
       "    </tr>\n",
       "    <tr>\n",
       "      <th>1329191</th>\n",
       "      <td>12470877</td>\n",
       "      <td>M</td>\n",
       "      <td>1986-06-08</td>\n",
       "      <td>Asian</td>\n",
       "      <td>N</td>\n",
       "      <td>Married</td>\n",
       "      <td>Non-Hispanic</td>\n",
       "      <td>N</td>\n",
       "      <td>NaN</td>\n",
       "      <td>NaN</td>\n",
       "      <td>024</td>\n",
       "      <td>128598.0</td>\n",
       "      <td>57.0</td>\n",
       "      <td>197.0</td>\n",
       "      <td>121.0</td>\n",
       "      <td>02/14/2017</td>\n",
       "      <td>48.0</td>\n",
       "      <td>10/01/2017</td>\n",
       "      <td>0</td>\n",
       "      <td>37.0</td>\n",
       "    </tr>\n",
       "    <tr>\n",
       "      <th>1329192</th>\n",
       "      <td>11706242</td>\n",
       "      <td>M</td>\n",
       "      <td>2001-08-05</td>\n",
       "      <td>Black</td>\n",
       "      <td>U</td>\n",
       "      <td>Single</td>\n",
       "      <td>Non-Hispanic</td>\n",
       "      <td>N</td>\n",
       "      <td>NaN</td>\n",
       "      <td>NaN</td>\n",
       "      <td>021</td>\n",
       "      <td>62945.0</td>\n",
       "      <td>10.0</td>\n",
       "      <td>31.0</td>\n",
       "      <td>20.0</td>\n",
       "      <td>08/13/2015</td>\n",
       "      <td>6.0</td>\n",
       "      <td>01/21/2016</td>\n",
       "      <td>1</td>\n",
       "      <td>15.0</td>\n",
       "    </tr>\n",
       "    <tr>\n",
       "      <th>1329193</th>\n",
       "      <td>11181783</td>\n",
       "      <td>F</td>\n",
       "      <td>1996-12-13</td>\n",
       "      <td>White</td>\n",
       "      <td>N</td>\n",
       "      <td>Single</td>\n",
       "      <td>Non-Hispanic</td>\n",
       "      <td>N</td>\n",
       "      <td>NaN</td>\n",
       "      <td>NaN</td>\n",
       "      <td>020</td>\n",
       "      <td>164583.0</td>\n",
       "      <td>27.0</td>\n",
       "      <td>106.0</td>\n",
       "      <td>35.0</td>\n",
       "      <td>04/14/2001</td>\n",
       "      <td>40.0</td>\n",
       "      <td>04/14/2001</td>\n",
       "      <td>0</td>\n",
       "      <td>8.0</td>\n",
       "    </tr>\n",
       "    <tr>\n",
       "      <th>1329194</th>\n",
       "      <td>12796490</td>\n",
       "      <td>M</td>\n",
       "      <td>1966-04-14</td>\n",
       "      <td>Black</td>\n",
       "      <td>N</td>\n",
       "      <td>Divorced</td>\n",
       "      <td>Non-Hispanic</td>\n",
       "      <td>N</td>\n",
       "      <td>NaN</td>\n",
       "      <td>NaN</td>\n",
       "      <td>021</td>\n",
       "      <td>40344.0</td>\n",
       "      <td>8.0</td>\n",
       "      <td>118.0</td>\n",
       "      <td>36.0</td>\n",
       "      <td>08/09/2015</td>\n",
       "      <td>44.0</td>\n",
       "      <td>08/09/2015</td>\n",
       "      <td>1</td>\n",
       "      <td>26.0</td>\n",
       "    </tr>\n",
       "    <tr>\n",
       "      <th>1329195</th>\n",
       "      <td>12707492</td>\n",
       "      <td>F</td>\n",
       "      <td>1971-09-05</td>\n",
       "      <td>White</td>\n",
       "      <td>N</td>\n",
       "      <td>Married</td>\n",
       "      <td>Non-Hispanic</td>\n",
       "      <td>N</td>\n",
       "      <td>NaN</td>\n",
       "      <td>NaN</td>\n",
       "      <td>041</td>\n",
       "      <td>51529.0</td>\n",
       "      <td>3.0</td>\n",
       "      <td>15.0</td>\n",
       "      <td>4.0</td>\n",
       "      <td>08/15/2015</td>\n",
       "      <td>6.0</td>\n",
       "      <td>08/15/2015</td>\n",
       "      <td>0</td>\n",
       "      <td>5.0</td>\n",
       "    </tr>\n",
       "  </tbody>\n",
       "</table>\n",
       "<p>1329196 rows × 20 columns</p>\n",
       "</div>"
      ],
      "text/plain": [
       "         subject_num gender sbirth_date     race veteran marital_status  \\\n",
       "0           10985687      M  1969-06-16    Black       U        Married   \n",
       "1           11664128      F  1966-10-02    White       U         Single   \n",
       "2           12095563      F  1970-08-10  Unknown       N         Single   \n",
       "3           12021239      M  1968-02-22    Black       N         Single   \n",
       "4           10341333      F  1968-01-18    White       N        Married   \n",
       "...              ...    ...         ...      ...     ...            ...   \n",
       "1329191     12470877      M  1986-06-08    Asian       N        Married   \n",
       "1329192     11706242      M  2001-08-05    Black       U         Single   \n",
       "1329193     11181783      F  1996-12-13    White       N         Single   \n",
       "1329194     12796490      M  1966-04-14    Black       N       Divorced   \n",
       "1329195     12707492      F  1971-09-05    White       N        Married   \n",
       "\n",
       "            ethnicity deceased sdeath_date  biobank_genotyped current_zip3  \\\n",
       "0        Non-Hispanic        N         NaN                NaN          020   \n",
       "1        Non-Hispanic        Y  09/20/2008                NaN          020   \n",
       "2            Hispanic        N         NaN                NaN          021   \n",
       "3        Non-Hispanic        N         NaN                NaN          019   \n",
       "4        Non-Hispanic        N         NaN                NaN          023   \n",
       "...               ...      ...         ...                ...          ...   \n",
       "1329191  Non-Hispanic        N         NaN                NaN          024   \n",
       "1329192  Non-Hispanic        N         NaN                NaN          021   \n",
       "1329193  Non-Hispanic        N         NaN                NaN          020   \n",
       "1329194  Non-Hispanic        N         NaN                NaN          021   \n",
       "1329195  Non-Hispanic        N         NaN                NaN          041   \n",
       "\n",
       "         currentzip_medianincome_2010  visit_count  fact_count  icd_count  \\\n",
       "0                             69340.0         49.0       547.0      231.0   \n",
       "1                             85131.0         91.0       710.0      391.0   \n",
       "2                             30282.0        304.0      1615.0      693.0   \n",
       "3                             38107.0         18.0       225.0       99.0   \n",
       "4                             62408.0        392.0      2024.0     1056.0   \n",
       "...                               ...          ...         ...        ...   \n",
       "1329191                      128598.0         57.0       197.0      121.0   \n",
       "1329192                       62945.0         10.0        31.0       20.0   \n",
       "1329193                      164583.0         27.0       106.0       35.0   \n",
       "1329194                       40344.0          8.0       118.0       36.0   \n",
       "1329195                       51529.0          3.0        15.0        4.0   \n",
       "\n",
       "        icd_first_sdate  cpt_count cpt_first_sdate  public_payer  notes_ct  \n",
       "0            05/03/1998      261.0      05/03/1998             0      94.0  \n",
       "1            09/08/1999      312.0      09/08/1999             1     145.0  \n",
       "2            01/17/1998      745.0      01/17/1998             1     353.0  \n",
       "3            07/27/1998      117.0      07/27/1998             1      37.0  \n",
       "4            01/08/1998      762.0      01/08/1998             0     364.0  \n",
       "...                 ...        ...             ...           ...       ...  \n",
       "1329191      02/14/2017       48.0      10/01/2017             0      37.0  \n",
       "1329192      08/13/2015        6.0      01/21/2016             1      15.0  \n",
       "1329193      04/14/2001       40.0      04/14/2001             0       8.0  \n",
       "1329194      08/09/2015       44.0      08/09/2015             1      26.0  \n",
       "1329195      08/15/2015        6.0      08/15/2015             0       5.0  \n",
       "\n",
       "[1329196 rows x 20 columns]"
      ]
     },
     "execution_count": 8,
     "metadata": {},
     "output_type": "execute_result"
    }
   ],
   "source": [
    "df_race"
   ]
  },
  {
   "cell_type": "markdown",
   "id": "c0e91544-e876-4468-ab83-564a66258f42",
   "metadata": {},
   "source": [
    "### Race breakdown by age"
   ]
  },
  {
   "cell_type": "code",
   "execution_count": 9,
   "id": "5958b05d-b060-43e6-84b6-9e5f8903f215",
   "metadata": {},
   "outputs": [
    {
     "name": "stdout",
     "output_type": "stream",
     "text": [
      "Race: Asian\n",
      "Total number of people of that race: 86148\n"
     ]
    },
    {
     "ename": "KeyError",
     "evalue": "'index_age'",
     "output_type": "error",
     "traceback": [
      "\u001b[0;31m---------------------------------------------------------------------------\u001b[0m",
      "\u001b[0;31mKeyError\u001b[0m                                  Traceback (most recent call last)",
      "\u001b[0;32m~/.local/lib/python3.6/site-packages/pandas/core/indexes/base.py\u001b[0m in \u001b[0;36mget_loc\u001b[0;34m(self, key, method, tolerance)\u001b[0m\n\u001b[1;32m   2897\u001b[0m             \u001b[0;32mtry\u001b[0m\u001b[0;34m:\u001b[0m\u001b[0;34m\u001b[0m\u001b[0;34m\u001b[0m\u001b[0m\n\u001b[0;32m-> 2898\u001b[0;31m                 \u001b[0;32mreturn\u001b[0m \u001b[0mself\u001b[0m\u001b[0;34m.\u001b[0m\u001b[0m_engine\u001b[0m\u001b[0;34m.\u001b[0m\u001b[0mget_loc\u001b[0m\u001b[0;34m(\u001b[0m\u001b[0mcasted_key\u001b[0m\u001b[0;34m)\u001b[0m\u001b[0;34m\u001b[0m\u001b[0;34m\u001b[0m\u001b[0m\n\u001b[0m\u001b[1;32m   2899\u001b[0m             \u001b[0;32mexcept\u001b[0m \u001b[0mKeyError\u001b[0m \u001b[0;32mas\u001b[0m \u001b[0merr\u001b[0m\u001b[0;34m:\u001b[0m\u001b[0;34m\u001b[0m\u001b[0;34m\u001b[0m\u001b[0m\n",
      "\u001b[0;32mpandas/_libs/index.pyx\u001b[0m in \u001b[0;36mpandas._libs.index.IndexEngine.get_loc\u001b[0;34m()\u001b[0m\n",
      "\u001b[0;32mpandas/_libs/index.pyx\u001b[0m in \u001b[0;36mpandas._libs.index.IndexEngine.get_loc\u001b[0;34m()\u001b[0m\n",
      "\u001b[0;32mpandas/_libs/hashtable_class_helper.pxi\u001b[0m in \u001b[0;36mpandas._libs.hashtable.PyObjectHashTable.get_item\u001b[0;34m()\u001b[0m\n",
      "\u001b[0;32mpandas/_libs/hashtable_class_helper.pxi\u001b[0m in \u001b[0;36mpandas._libs.hashtable.PyObjectHashTable.get_item\u001b[0;34m()\u001b[0m\n",
      "\u001b[0;31mKeyError\u001b[0m: 'index_age'",
      "\nThe above exception was the direct cause of the following exception:\n",
      "\u001b[0;31mKeyError\u001b[0m                                  Traceback (most recent call last)",
      "\u001b[0;32m<ipython-input-9-ed23b95ed89e>\u001b[0m in \u001b[0;36m<module>\u001b[0;34m\u001b[0m\n\u001b[1;32m     20\u001b[0m     \u001b[0;32mfor\u001b[0m \u001b[0mkey\u001b[0m\u001b[0;34m,\u001b[0m \u001b[0mvalue\u001b[0m \u001b[0;32min\u001b[0m \u001b[0mcases_per_age_dict\u001b[0m\u001b[0;34m.\u001b[0m\u001b[0mitems\u001b[0m\u001b[0;34m(\u001b[0m\u001b[0;34m)\u001b[0m\u001b[0;34m:\u001b[0m\u001b[0;34m\u001b[0m\u001b[0;34m\u001b[0m\u001b[0m\n\u001b[1;32m     21\u001b[0m         num_patients_per_race_per_age = len(spec_race_df[(spec_race_df['subject_num'].apply(lambda x: int(x) in list_of_patients_per_race)) & \n\u001b[0;32m---> 22\u001b[0;31m                                      (spec_race_df['index_age'] >= key) & (spec_race_df['index_age'] < key + 5)])\n\u001b[0m\u001b[1;32m     23\u001b[0m         \u001b[0mprint\u001b[0m\u001b[0;34m(\u001b[0m\u001b[0;34mf'Total patients between ages {key} and {key+5}: {num_patients_per_race_per_age}'\u001b[0m\u001b[0;34m)\u001b[0m\u001b[0;34m\u001b[0m\u001b[0;34m\u001b[0m\u001b[0m\n\u001b[1;32m     24\u001b[0m         \u001b[0mprint\u001b[0m\u001b[0;34m(\u001b[0m\u001b[0;34mf'Cases between ages {key} and {key+5}: {value}'\u001b[0m\u001b[0;34m)\u001b[0m\u001b[0;34m\u001b[0m\u001b[0;34m\u001b[0m\u001b[0m\n",
      "\u001b[0;32m~/.local/lib/python3.6/site-packages/pandas/core/frame.py\u001b[0m in \u001b[0;36m__getitem__\u001b[0;34m(self, key)\u001b[0m\n\u001b[1;32m   2904\u001b[0m             \u001b[0;32mif\u001b[0m \u001b[0mself\u001b[0m\u001b[0;34m.\u001b[0m\u001b[0mcolumns\u001b[0m\u001b[0;34m.\u001b[0m\u001b[0mnlevels\u001b[0m \u001b[0;34m>\u001b[0m \u001b[0;36m1\u001b[0m\u001b[0;34m:\u001b[0m\u001b[0;34m\u001b[0m\u001b[0;34m\u001b[0m\u001b[0m\n\u001b[1;32m   2905\u001b[0m                 \u001b[0;32mreturn\u001b[0m \u001b[0mself\u001b[0m\u001b[0;34m.\u001b[0m\u001b[0m_getitem_multilevel\u001b[0m\u001b[0;34m(\u001b[0m\u001b[0mkey\u001b[0m\u001b[0;34m)\u001b[0m\u001b[0;34m\u001b[0m\u001b[0;34m\u001b[0m\u001b[0m\n\u001b[0;32m-> 2906\u001b[0;31m             \u001b[0mindexer\u001b[0m \u001b[0;34m=\u001b[0m \u001b[0mself\u001b[0m\u001b[0;34m.\u001b[0m\u001b[0mcolumns\u001b[0m\u001b[0;34m.\u001b[0m\u001b[0mget_loc\u001b[0m\u001b[0;34m(\u001b[0m\u001b[0mkey\u001b[0m\u001b[0;34m)\u001b[0m\u001b[0;34m\u001b[0m\u001b[0;34m\u001b[0m\u001b[0m\n\u001b[0m\u001b[1;32m   2907\u001b[0m             \u001b[0;32mif\u001b[0m \u001b[0mis_integer\u001b[0m\u001b[0;34m(\u001b[0m\u001b[0mindexer\u001b[0m\u001b[0;34m)\u001b[0m\u001b[0;34m:\u001b[0m\u001b[0;34m\u001b[0m\u001b[0;34m\u001b[0m\u001b[0m\n\u001b[1;32m   2908\u001b[0m                 \u001b[0mindexer\u001b[0m \u001b[0;34m=\u001b[0m \u001b[0;34m[\u001b[0m\u001b[0mindexer\u001b[0m\u001b[0;34m]\u001b[0m\u001b[0;34m\u001b[0m\u001b[0;34m\u001b[0m\u001b[0m\n",
      "\u001b[0;32m~/.local/lib/python3.6/site-packages/pandas/core/indexes/base.py\u001b[0m in \u001b[0;36mget_loc\u001b[0;34m(self, key, method, tolerance)\u001b[0m\n\u001b[1;32m   2898\u001b[0m                 \u001b[0;32mreturn\u001b[0m \u001b[0mself\u001b[0m\u001b[0;34m.\u001b[0m\u001b[0m_engine\u001b[0m\u001b[0;34m.\u001b[0m\u001b[0mget_loc\u001b[0m\u001b[0;34m(\u001b[0m\u001b[0mcasted_key\u001b[0m\u001b[0;34m)\u001b[0m\u001b[0;34m\u001b[0m\u001b[0;34m\u001b[0m\u001b[0m\n\u001b[1;32m   2899\u001b[0m             \u001b[0;32mexcept\u001b[0m \u001b[0mKeyError\u001b[0m \u001b[0;32mas\u001b[0m \u001b[0merr\u001b[0m\u001b[0;34m:\u001b[0m\u001b[0;34m\u001b[0m\u001b[0;34m\u001b[0m\u001b[0m\n\u001b[0;32m-> 2900\u001b[0;31m                 \u001b[0;32mraise\u001b[0m \u001b[0mKeyError\u001b[0m\u001b[0;34m(\u001b[0m\u001b[0mkey\u001b[0m\u001b[0;34m)\u001b[0m \u001b[0;32mfrom\u001b[0m \u001b[0merr\u001b[0m\u001b[0;34m\u001b[0m\u001b[0;34m\u001b[0m\u001b[0m\n\u001b[0m\u001b[1;32m   2901\u001b[0m \u001b[0;34m\u001b[0m\u001b[0m\n\u001b[1;32m   2902\u001b[0m         \u001b[0;32mif\u001b[0m \u001b[0mtolerance\u001b[0m \u001b[0;32mis\u001b[0m \u001b[0;32mnot\u001b[0m \u001b[0;32mNone\u001b[0m\u001b[0;34m:\u001b[0m\u001b[0;34m\u001b[0m\u001b[0;34m\u001b[0m\u001b[0m\n",
      "\u001b[0;31mKeyError\u001b[0m: 'index_age'"
     ]
    }
   ],
   "source": [
    "for race in race_list:\n",
    "    cases_per_age_dict = {} # key: age; value: num_cases_per_age\n",
    "    \n",
    "    spec_race_df = df_race[df_race['race']==race]\n",
    "    num_patients_per_race = len(spec_race_df)\n",
    "    list_of_patients_per_race = list(spec_race_df['subject_num'])\n",
    "    # cases_per_race = df_cases[df_cases['subject_num'].apply(lambda x: int(x) in list_of_patients_per_race)]\n",
    "    \n",
    "    for age in age_list:\n",
    "        num_cases_per_age = len(df_cases[(df_cases['subject_num'].apply(lambda x: int(x) in list_of_patients_per_race)) & \n",
    "                                     (df_cases['index_age'] >= age) & (df_cases['index_age'] < age + 5)])\n",
    "        cases_per_age_dict[age] = num_cases_per_age\n",
    "    \n",
    "    print(f'Race: {race}')\n",
    "    print(f'Total number of people of that race: {num_patients_per_race}')\n",
    "    \n",
    "    for key, value in cases_per_age_dict.items():\n",
    "        num_patients_per_race_per_age = defaultdict(int)\n",
    "        for patient in list_of_patients_per_race:\n",
    "            num_patients_per_race_per_age[key] += 1\n",
    "        print(f'Total patients between ages {key} and {key+5}: {num_patients_per_race_per_age}')\n",
    "        print(f'Cases between ages {key} and {key+5}: {value}')\n",
    "        print(f'Cases in age group / Total Cases: {round((float(value) / cases_per_race_dict[race]) * 100, 3)}%')\n",
    "    \n",
    "    # print(f'Number of cases of that race: {num_cases_per_race}')\n",
    "    # print(f'Cases : Total percent of that race: {round((num_cases_per_race / float(num_patients_per_race)) * 100, 3)}%')\n",
    "    print()"
   ]
  },
  {
   "cell_type": "markdown",
   "id": "592ddf28-1f69-4aa6-8bb8-b9b42a97bb76",
   "metadata": {},
   "source": [
    "# Sensitivity Percentages: Function Defs"
   ]
  },
  {
   "cell_type": "code",
   "execution_count": 13,
   "id": "e0fd20db-d5ac-4c9e-9710-c387fa06b6c1",
   "metadata": {},
   "outputs": [],
   "source": [
    "def get_age_bucket_df(model_pred_csv, age_threshold):\n",
    "    '''\n",
    "    model_pred_csv: csv file of model predictoins\n",
    "    age_threshold: i.e. for 15-20 it would be 15; for 20-25 it would be 20, etc.\n",
    "    '''\n",
    "    rf_preds = pd.read_csv(model_pred_csv)\n",
    "    # rf_preds = rf_preds.rename(columns={'Unnamed: 0': 'patient_id'})\n",
    "    rf_preds = rf_preds.rename(columns={rf_preds.columns[0]: \"patient_id\"})\n",
    "    del rf_preds['0']\n",
    "\n",
    "    # csv of just controls\n",
    "    rf_controls = rf_preds[rf_preds['isCase'] == 0]\n",
    "    \n",
    "    # csv of just cases\n",
    "    rf_cases = rf_preds[rf_preds['isCase'] == 1]\n",
    "    rf_cases = rf_cases.sort_values(by='1', ascending=False)\n",
    "    \n",
    "    df_within_1_year = rf_cases[(rf_cases['age_at_index']-age_threshold > 0) & (rf_cases['age_at_index']-age_threshold < 1)]\n",
    "    df_1_to_2_years = rf_cases[(rf_cases['age_at_index']-age_threshold >= 1) & (rf_cases['age_at_index']-age_threshold < 2)]\n",
    "    df_2_to_3_years = rf_cases[(rf_cases['age_at_index']-age_threshold >= 2) & (rf_cases['age_at_index']-age_threshold < 3)]\n",
    "    df_3_to_4_years = rf_cases[(rf_cases['age_at_index']-age_threshold >= 3) & (rf_cases['age_at_index']-age_threshold < 4)]\n",
    "    df_4_to_5_years = rf_cases[(rf_cases['age_at_index']-age_threshold >= 4) & (rf_cases['age_at_index']-age_threshold < 5)]\n",
    "    \n",
    "    print('Within 1 year: ', len(df_within_1_year))\n",
    "    print('1 to 2 years: ', len(df_1_to_2_years))\n",
    "    print('2 to 3 years: ', len(df_2_to_3_years))\n",
    "    print('3 to 4 years: ', len(df_3_to_4_years))\n",
    "    print('4 to 5 years: ', len(df_4_to_5_years))\n",
    "\n",
    "    total_cases = len(df_within_1_year)+len(df_1_to_2_years)+len(df_2_to_3_years)+len(df_3_to_4_years)+len(df_4_to_5_years)\n",
    "    total_cases_df = pd.concat([df_within_1_year, df_1_to_2_years, df_2_to_3_years, df_3_to_4_years, df_4_to_5_years], axis=0, join='outer')\n",
    "    print('Total RF testing cases: ', total_cases)\n",
    "    \n",
    "    # add cases that meet case def outside of range to rf_controls\n",
    "    controls_add_on = rf_cases[rf_cases['patient_id'].apply(lambda x: x not in list(total_cases_df['patient_id']))]\n",
    "    rf_controls = pd.concat([rf_controls, controls_add_on], axis=0, join='outer')\n",
    "    rf_controls = rf_controls.sort_values(by='1', ascending=False)\n",
    "    \n",
    "    return total_cases_df, rf_preds, rf_cases, rf_controls, total_cases, df_within_1_year, df_1_to_2_years, df_2_to_3_years, df_3_to_4_years, df_4_to_5_years"
   ]
  },
  {
   "cell_type": "code",
   "execution_count": 8,
   "id": "6fe7566a-cb1a-40ed-ba84-0fd40e117b4c",
   "metadata": {},
   "outputs": [],
   "source": [
    "def get_sensitivity(rf_controls, rf_cases, total_cases):\n",
    "    # get top 10% of rf_controls and the threshold\n",
    "    top_10_percent_row_count = int(len(rf_controls) * 0.1)\n",
    "    top_10_percent_rows = rf_controls.head(top_10_percent_row_count)\n",
    "\n",
    "    # get top 5% of rf_controls and the threshold\n",
    "    top_5_percent_row_count = int(len(rf_controls) * 0.05)\n",
    "    top_5_percent_rows = rf_controls.head(top_5_percent_row_count)\n",
    "    import pdb\n",
    "\n",
    "    # get top 1% of rf_controls and the threshold\n",
    "    top_1_percent_row_count = int(len(rf_controls) * 0.01)\n",
    "    top_1_percent_rows = rf_controls.head(top_1_percent_row_count)\n",
    "\n",
    "    # calculate thresholds\n",
    "    threshold_90 = list(top_10_percent_rows.tail(1)['1'])[0]\n",
    "    threshold_95 = list(top_5_percent_rows.tail(1)['1'])[0]\n",
    "    threshold_99 = list(top_1_percent_rows.tail(1)['1'])[0]\n",
    "    \n",
    "    # print thresholds\n",
    "    print('90% threshold: ', threshold_90)\n",
    "    print('95% threshold: ', threshold_95)\n",
    "    print('99% threshold: ', threshold_99)\n",
    "    \n",
    "    # apply threshold to cases\n",
    "    specificity_cases_90 = rf_cases[rf_cases['1'] >= threshold_90]\n",
    "    specificity_cases_95 = rf_cases[rf_cases['1'] >= threshold_95] \n",
    "    specificity_cases_99 = rf_cases[rf_cases['1'] >= threshold_99]\n",
    "    \n",
    "    # print 2x2 table (true and false pos and negs) for 95%\n",
    "    print(\"True positives: \", len(specificity_cases_95))\n",
    "    print(\"False positives: \", top_5_percent_row_count)\n",
    "    print(\"True negatives: \", len(rf_controls[rf_controls['1'] < threshold_95]))\n",
    "    print(\"False negatives: \", len(rf_cases[rf_cases['1'] < threshold_95]))\n",
    "    print()\n",
    "    \n",
    "    # print list of all individuals (cases + controls) that model predicts as cases (SUBJECT_NUM, not PATIENT_ID)\n",
    "    # list_individuals_pred_as_cases_90 = top_10_percent_rows[top_10_percent_rows['isCase']==1]['subject_num'].tolist() + specificity_cases_90[specificity_cases_90['isCase']==1]['subject_num'].tolist()\n",
    "    list_individuals_pred_as_cases_95 = list(set(top_5_percent_rows['subject_num'].tolist() + specificity_cases_95['subject_num'].tolist()))\n",
    "    list_true_positives_95 = specificity_cases_95['subject_num'].tolist()\n",
    "    # list_individuals_pred_as_cases_99 = top_1_percent_rows[top_1_percent_rows['isCase']==1]['subject_num'].tolist() + specificity_cases_99[specificity_cases_99['isCase']==1]['subject_num'].tolist()\n",
    "    \n",
    "    def get_races_for_cases(list_individuals_pred_as_cases):\n",
    "        individuals_pred_as_cases_per_race = {}\n",
    "        \n",
    "        for race in race_list:\n",
    "            spec_race_df = df_race[df_race['race']==race]\n",
    "            num_patients_per_race = len(spec_race_df)\n",
    "            list_of_patients_per_race = list(spec_race_df['subject_num'])\n",
    "            num_cases_per_race = sum(int(x) in list_of_patients_per_race for x in list_individuals_pred_as_cases)\n",
    "            individuals_pred_as_cases_per_race[race] = num_cases_per_race\n",
    "        return individuals_pred_as_cases_per_race\n",
    "    \n",
    "    # print(list_individuals_pred_as_cases_90)\n",
    "    print('Individuals predicted as cases, 95%: ', len(list_individuals_pred_as_cases_95))\n",
    "    print('Race breakdown of individuals above: ', get_races_for_cases(list_individuals_pred_as_cases_95))\n",
    "    print('Race breakdown of true positives: ', get_races_for_cases(list_true_positives_95))\n",
    "    print()\n",
    "    \n",
    "    # print sensitivities\n",
    "    print(f\"Specificity 90 ({len(specificity_cases_90)}/{total_cases}): \", len(specificity_cases_90)/total_cases)\n",
    "    print(f\"Specificity 95 ({len(specificity_cases_95)}/{total_cases}): \", len(specificity_cases_95)/total_cases)\n",
    "    print(f\"Specificity 99 ({len(specificity_cases_99)}/{total_cases}): \", len(specificity_cases_99)/total_cases)\n",
    "    \n",
    "    return specificity_cases_90, specificity_cases_95, specificity_cases_99"
   ]
  },
  {
   "cell_type": "code",
   "execution_count": 9,
   "id": "b6dea6d4-dd52-4e8f-ab71-d4c7136eda81",
   "metadata": {},
   "outputs": [],
   "source": [
    "def get_true_positive_info(age_threshold, rf_preds, sensitivity_cases, df_within_1_year, df_1_to_2_years, df_2_to_3_years, df_3_to_4_years, df_4_to_5_years):\n",
    "    gt_start_age_that_model_predicted_correctly = []\n",
    "    patient_ids_model_correctly_predicted = sensitivity_cases['patient_id'].tolist()\n",
    "\n",
    "    for patient_id in patient_ids_model_correctly_predicted:\n",
    "        gt_start_age_that_model_predicted_correctly.append(float(rf_preds[rf_preds['patient_id']==patient_id]['age_at_index']))\n",
    "\n",
    "    # remove any time differences that are > 5 years\n",
    "    time_difference_btw_model_and_gt = [(el-float(age_threshold)) for el in gt_start_age_that_model_predicted_correctly if (el-float(age_threshold)) <= 5]\n",
    "    \n",
    "    \n",
    "    # print raw number of correct predictions\n",
    "    print('Within 1 year (raw): ', len([num for num in gt_start_age_that_model_predicted_correctly if age_threshold < num < (age_threshold+1)]))\n",
    "    print('1 to 2 years (raw): ', len([num for num in gt_start_age_that_model_predicted_correctly if (age_threshold+1) <= num < (age_threshold+2)]))\n",
    "    print('2 to 3 years (raw): ', len([num for num in gt_start_age_that_model_predicted_correctly if (age_threshold+2) <= num < (age_threshold+3)]))\n",
    "    print('3 to 4 years (raw): ', len([num for num in gt_start_age_that_model_predicted_correctly if (age_threshold+3) <= num < (age_threshold+4)]))\n",
    "    print('4 to 5 years (raw): ', len([num for num in gt_start_age_that_model_predicted_correctly if (age_threshold) <= num < (age_threshold+5)]))\n",
    "    print()\n",
    "    \n",
    "    p_within_1_year = len([num for num in gt_start_age_that_model_predicted_correctly if age_threshold < num < (age_threshold+1)]) / len(df_within_1_year)\n",
    "    p_1_to_2_years = len([num for num in gt_start_age_that_model_predicted_correctly if (age_threshold+1) <= num < (age_threshold+2)]) / len(df_1_to_2_years)\n",
    "    p_2_to_3_years = len([num for num in gt_start_age_that_model_predicted_correctly if (age_threshold+2) <= num < (age_threshold+3)]) / len(df_2_to_3_years)\n",
    "    p_3_to_4_years = len([num for num in gt_start_age_that_model_predicted_correctly if (age_threshold+3) <= num < (age_threshold+4)]) / len(df_3_to_4_years)\n",
    "    p_4_to_5_years = len([num for num in gt_start_age_that_model_predicted_correctly if (age_threshold+4) <= num < (age_threshold+5)]) / len(df_4_to_5_years)\n",
    "    \n",
    "    print('For all people who ground truth got their cases assigned within 1 year, what percent did model predict at age 15?')\n",
    "    print(str(round((p_within_1_year) * 100, 2)) + '%')\n",
    "    print('For all people who ground truth got their cases assigned between 1-2 years, what percent did model predict at age 15?')\n",
    "    print(str(round((p_1_to_2_years) * 100, 2)) + '%')\n",
    "    print('For all people who ground truth got their cases assigned between 2-3 years, what percent did model predict at age 15?')\n",
    "    print(str(round((p_2_to_3_years) * 100, 2)) + '%')\n",
    "    print('For all people who ground truth got their cases assigned between 3-4 years, what percent did model predict at age 15?')\n",
    "    print(str(round((p_3_to_4_years) * 100, 2)) + '%')\n",
    "    print('For all people who ground truth got their cases assigned between 4-5 years, what percent did model predict at age 15?')\n",
    "    print(str(round((p_4_to_5_years) * 100, 2)) + '%')\n",
    "    \n",
    "    return p_within_1_year, p_1_to_2_years, p_2_to_3_years, p_3_to_4_years, p_4_to_5_years, time_difference_btw_model_and_gt"
   ]
  },
  {
   "cell_type": "code",
   "execution_count": 10,
   "id": "9a2e7f83-d543-42e4-a5a3-d1e76dd05218",
   "metadata": {},
   "outputs": [],
   "source": [
    "def calculate_ci(p_within_1_year, p_1_to_2_years, p_2_to_3_years, p_3_to_4_years, p_4_to_5_years, df_within_1_year, df_1_to_2_years, df_2_to_3_years, df_3_to_4_years, df_4_to_5_years):\n",
    "    # 95% margin of errors\n",
    "    me_within_1_year = ((p_within_1_year * (1 - p_within_1_year)) / len(df_within_1_year)) * 1.96\n",
    "    me_1_to_2_years = ((p_1_to_2_years * (1 - p_1_to_2_years)) / len(df_1_to_2_years)) * 1.96\n",
    "    me_2_to_3_years = ((p_2_to_3_years * (1 - p_2_to_3_years)) / len(df_2_to_3_years)) * 1.96\n",
    "    me_3_to_4_years = ((p_3_to_4_years * (1 - p_3_to_4_years)) / len(df_3_to_4_years)) * 1.96\n",
    "    me_4_to_5_years = ((p_4_to_5_years * (1 - p_4_to_5_years)) / len(df_4_to_5_years)) * 1.96\n",
    "\n",
    "    # 95% confidence intervals, in percent form\n",
    "    ci_within_1_year = [round((p_within_1_year - me_within_1_year)*100, 2), round((p_within_1_year + me_within_1_year)*100, 2)]\n",
    "    ci_1_to_2_years = [round((p_1_to_2_years - me_1_to_2_years)*100, 2), round((p_1_to_2_years + me_1_to_2_years)*100, 2)]\n",
    "    ci_2_to_3_years = [round((p_2_to_3_years - me_2_to_3_years)*100, 2), round((p_2_to_3_years + me_2_to_3_years)*100, 2)]\n",
    "    ci_3_to_4_years = [round((p_3_to_4_years - me_3_to_4_years)*100, 2), round((p_3_to_4_years + me_3_to_4_years)*100, 2)]\n",
    "    ci_4_to_5_years = [round((p_4_to_5_years - me_4_to_5_years)*100, 2), round((p_4_to_5_years + me_4_to_5_years)*100, 2)]\n",
    "\n",
    "    # print CIs\n",
    "    print(ci_within_1_year)\n",
    "    print(ci_1_to_2_years)\n",
    "    print(ci_2_to_3_years)\n",
    "    print(ci_3_to_4_years)\n",
    "    print(ci_4_to_5_years)"
   ]
  },
  {
   "cell_type": "code",
   "execution_count": 11,
   "id": "717b84d9-4554-4037-9fef-4b2978c554ff",
   "metadata": {},
   "outputs": [],
   "source": [
    "def auc_ci(df, n_bootstraps=1000, ci=0.95):\n",
    "    # Check if the DataFrame is empty\n",
    "    if df.empty:\n",
    "        raise ValueError(\"Input DataFrame is empty. Please provide valid data.\")\n",
    "    \n",
    "    # Extract ground truth and predictions\n",
    "    ground_truth = df['isCase'].values\n",
    "    pred = df['1'].values\n",
    "    \n",
    "    # Validate the data\n",
    "    if len(ground_truth) == 0 or len(pred) == 0:\n",
    "        raise ValueError(\"Ground truth or prediction array is empty.\")\n",
    "    \n",
    "    if len(np.unique(ground_truth)) < 2:\n",
    "        raise ValueError(\"Ground truth does not have at least two classes (positive and negative).\")\n",
    "    \n",
    "    # Bootstrap to estimate the confidence interval\n",
    "    bootstrapped_scores = []\n",
    "    rng = np.random.RandomState(42)  # Seed for reproducibility\n",
    "\n",
    "    for i in range(n_bootstraps):\n",
    "        # Resample with replacement\n",
    "        indices = rng.randint(0, len(ground_truth), len(pred))\n",
    "        if len(np.unique(ground_truth[indices])) < 2:\n",
    "            # Skip this bootstrap sample if there are not at least one positive and one negative sample\n",
    "            continue\n",
    "        \n",
    "        score = roc_auc_score(ground_truth[indices], pred[indices])\n",
    "        bootstrapped_scores.append(score)\n",
    "    \n",
    "    # Handle the case where no valid bootstrap samples were generated\n",
    "    if len(bootstrapped_scores) == 0:\n",
    "        raise ValueError(\"No valid bootstrap samples were generated. Check the input data.\")\n",
    "    \n",
    "    # Compute the confidence interval\n",
    "    sorted_scores = np.array(bootstrapped_scores)\n",
    "    lower_bound = np.percentile(sorted_scores, ((1 - ci) / 2) * 100)\n",
    "    upper_bound = np.percentile(sorted_scores, (ci + (1 - ci) / 2) * 100)\n",
    "    \n",
    "    print(f'95% Confidence Interval for AUC: [{lower_bound:.4f}, {upper_bound:.4f}]')\n",
    "    return lower_bound, upper_bound\n"
   ]
  },
  {
   "cell_type": "markdown",
   "id": "d47a4db0-7ce2-4368-a681-9d70ba1cef40",
   "metadata": {},
   "source": [
    "## Ages 15 - 20"
   ]
  },
  {
   "cell_type": "markdown",
   "id": "300ab155-9a54-439a-be40-911683095914",
   "metadata": {},
   "source": [
    "#### Specificity Percentages"
   ]
  },
  {
   "cell_type": "code",
   "execution_count": 13,
   "id": "41a79413-a63a-444e-a637-42085e483018",
   "metadata": {},
   "outputs": [],
   "source": [
    "# total_cases_df_15, rf_preds_15, rf_cases_15, rf_controls_15, total_cases_15, df_within_1_year_15, df_1_to_2_years_15, df_2_to_3_years_15, \\\n",
    "#     df_3_to_4_years_15, df_4_to_5_years_15 = get_age_bucket_df('rf_model_pred_res_age_15.csv', 15)"
   ]
  },
  {
   "cell_type": "code",
   "execution_count": 14,
   "id": "4715c635-86d6-46bf-acf7-0737ce4b5a8f",
   "metadata": {},
   "outputs": [
    {
     "name": "stdout",
     "output_type": "stream",
     "text": [
      "Within 1 year:  24\n",
      "1 to 2 years:  19\n",
      "2 to 3 years:  33\n",
      "3 to 4 years:  31\n",
      "4 to 5 years:  40\n",
      "Total RF testing cases:  147\n"
     ]
    }
   ],
   "source": [
    "total_cases_df_15, rf_preds_15, rf_cases_15, rf_controls_15, total_cases_15, df_within_1_year_15, df_1_to_2_years_15, df_2_to_3_years_15, \\\n",
    "    df_3_to_4_years_15, df_4_to_5_years_15 = get_age_bucket_df('./rf_model_pred_res_age_15.csv', 15)"
   ]
  },
  {
   "cell_type": "code",
   "execution_count": 15,
   "id": "283e2fad-574c-49d6-a527-ac64984af919",
   "metadata": {},
   "outputs": [
    {
     "data": {
      "text/plain": [
       "14259"
      ]
     },
     "execution_count": 15,
     "metadata": {},
     "output_type": "execute_result"
    }
   ],
   "source": [
    "len(rf_controls_15)"
   ]
  },
  {
   "cell_type": "code",
   "execution_count": 16,
   "id": "8691a90c-c43d-4823-923f-210b1f02afec",
   "metadata": {},
   "outputs": [
    {
     "data": {
      "text/plain": [
       "337"
      ]
     },
     "execution_count": 16,
     "metadata": {},
     "output_type": "execute_result"
    }
   ],
   "source": [
    "len(rf_cases_15)"
   ]
  },
  {
   "cell_type": "code",
   "execution_count": 16,
   "id": "3ce3ad7f-d7ff-45df-82ae-d563552f157f",
   "metadata": {},
   "outputs": [
    {
     "data": {
      "text/plain": [
       "14259"
      ]
     },
     "execution_count": 16,
     "metadata": {},
     "output_type": "execute_result"
    }
   ],
   "source": [
    "13546+713"
   ]
  },
  {
   "cell_type": "code",
   "execution_count": 17,
   "id": "bacdc24f-002a-4b48-8af9-ee8b94e64250",
   "metadata": {},
   "outputs": [
    {
     "data": {
      "text/plain": [
       "14130"
      ]
     },
     "execution_count": 17,
     "metadata": {},
     "output_type": "execute_result"
    }
   ],
   "source": [
    "712+13418"
   ]
  },
  {
   "cell_type": "code",
   "execution_count": null,
   "id": "9d4b6944-1e38-47b3-bd77-e8ebb1de2829",
   "metadata": {},
   "outputs": [],
   "source": []
  },
  {
   "cell_type": "code",
   "execution_count": 34,
   "id": "5279f15f-514f-48a9-a0c5-e63108d5a0b4",
   "metadata": {},
   "outputs": [
    {
     "name": "stdout",
     "output_type": "stream",
     "text": [
      "90% threshold:  0.01171875\n",
      "95% threshold:  0.01953125\n",
      "99% threshold:  0.04296875\n",
      "True positives:  52\n",
      "False positives:  712\n",
      "True negatives:  13544\n",
      "False negatives:  95\n",
      "\n",
      "Individuals predicted as cases, 95%:  764\n",
      "Race breakdown of individuals above:  {'White': 408, 'Black': 89, 'Asian': 34, 'Other': 122, 'Unknown': 111}\n",
      "Race breakdown of true positives:  {'White': 32, 'Black': 5, 'Asian': 2, 'Other': 8, 'Unknown': 5}\n",
      "\n",
      "Specificity 90 (70/147):  0.47619047619047616\n",
      "Specificity 95 (52/147):  0.35374149659863946\n",
      "Specificity 99 (32/147):  0.21768707482993196\n"
     ]
    }
   ],
   "source": [
    "# TODO: check with Yuval to confirm these numbers --> close but not quite matching table 2 sensitivities\n",
    "sensitivity_cases_90_15, sensitivity_cases_95_15, \\\n",
    "    sensitivity_cases_99_15 = get_sensitivity(rf_controls_15, total_cases_df_15, total_cases_15)"
   ]
  },
  {
   "cell_type": "code",
   "execution_count": 41,
   "id": "46791b3a-13b3-4ac9-8844-4a385557f0e8",
   "metadata": {},
   "outputs": [
    {
     "data": {
      "text/plain": [
       "70"
      ]
     },
     "execution_count": 41,
     "metadata": {},
     "output_type": "execute_result"
    }
   ],
   "source": [
    "len(sensitivity_cases_90_15)"
   ]
  },
  {
   "cell_type": "markdown",
   "id": "2e1905ca-3022-4ea4-8167-497fb2df10c0",
   "metadata": {},
   "source": [
    "#### Age predictions (Specificity 90%)"
   ]
  },
  {
   "cell_type": "code",
   "execution_count": 19,
   "id": "96921340-d830-4bbc-b762-5e9582b25614",
   "metadata": {},
   "outputs": [
    {
     "name": "stdout",
     "output_type": "stream",
     "text": [
      "Within 1 year (raw):  15\n",
      "1 to 2 years (raw):  13\n",
      "2 to 3 years (raw):  12\n",
      "3 to 4 years (raw):  18\n",
      "4 to 5 years (raw):  70\n",
      "\n",
      "For all people who ground truth got their cases assigned within 1 year, what percent did model predict at age 15?\n",
      "62.5%\n",
      "For all people who ground truth got their cases assigned between 1-2 years, what percent did model predict at age 15?\n",
      "68.42%\n",
      "For all people who ground truth got their cases assigned between 2-3 years, what percent did model predict at age 15?\n",
      "36.36%\n",
      "For all people who ground truth got their cases assigned between 3-4 years, what percent did model predict at age 15?\n",
      "58.06%\n",
      "For all people who ground truth got their cases assigned between 4-5 years, what percent did model predict at age 15?\n",
      "30.0%\n"
     ]
    }
   ],
   "source": [
    "p_within_1_year_90_15, p_1_to_2_years_90_15, p_2_to_3_years_90_15, p_3_to_4_years_90_15, \\\n",
    "    p_4_to_5_years_90_15, time_difference_btw_model_and_gt_90_15 = \\\n",
    "        get_true_positive_info(15, rf_preds_15, sensitivity_cases_90_15, df_within_1_year_15, \\\n",
    "                                df_1_to_2_years_15, df_2_to_3_years_15, df_3_to_4_years_15, \\\n",
    "                                df_4_to_5_years_15)"
   ]
  },
  {
   "cell_type": "code",
   "execution_count": 20,
   "id": "4c901f44-8daa-47a8-977f-24113cf5c989",
   "metadata": {},
   "outputs": [
    {
     "name": "stdout",
     "output_type": "stream",
     "text": [
      "[60.59, 64.41]\n",
      "[66.19, 70.65]\n",
      "[34.99, 37.74]\n",
      "[56.52, 59.6]\n",
      "[28.97, 31.03]\n"
     ]
    }
   ],
   "source": [
    "calculate_ci(p_within_1_year_90_15, p_1_to_2_years_90_15, p_2_to_3_years_90_15, p_3_to_4_years_90_15, p_4_to_5_years_90_15, \\\n",
    "             df_within_1_year_15, df_1_to_2_years_15, df_2_to_3_years_15, df_3_to_4_years_15, df_4_to_5_years_15)"
   ]
  },
  {
   "cell_type": "code",
   "execution_count": 21,
   "id": "6357384c-8f9d-472e-8153-2fe82a6bc859",
   "metadata": {},
   "outputs": [
    {
     "data": {
      "image/png": "[encoded data removed]",
      "text/plain": [
       "<Figure size 432x288 with 1 Axes>"
      ]
     },
     "metadata": {
      "needs_background": "light"
     },
     "output_type": "display_data"
    }
   ],
   "source": [
    "# for all true positives (ground truth cases) AND that the model correctly predicted were cases, plot histogram of time between model's prediction time and the ground truth prediction time\n",
    "bins = range(int(min(time_difference_btw_model_and_gt_90_15)), int(max(time_difference_btw_model_and_gt_90_15)) + 2)\n",
    "\n",
    "plt.hist(time_difference_btw_model_and_gt_90_15, bins=bins, ec='white')\n",
    "plt.title('Time between Meeting Case Definition and Model Prediction Time, for Correctly Predicted Cases (Specificity 90%, Ages 15-20)')\n",
    "plt.xlabel('Time difference between model prediction and actual case definition assignment (years)')\n",
    "plt.ylabel('Frequency')\n",
    "plt.show()"
   ]
  },
  {
   "cell_type": "code",
   "execution_count": 22,
   "id": "c8af0e88-8e27-46e4-a32a-ecf9bdf538ef",
   "metadata": {},
   "outputs": [
    {
     "data": {
      "text/plain": [
       "Text(0, 0.5, 'Sensitivity')"
      ]
     },
     "execution_count": 22,
     "metadata": {},
     "output_type": "execute_result"
    },
    {
     "data": {
      "image/png": "[encoded data removed]",
      "text/plain": [
       "<Figure size 432x288 with 1 Axes>"
      ]
     },
     "metadata": {
      "needs_background": "light"
     },
     "output_type": "display_data"
    }
   ],
   "source": [
    "plt.bar(['Within 1 year', '1-2 years', '2-3 years', '3-4 years', '4-5 years'], \\\n",
    "        [p_within_1_year_90_15, p_1_to_2_years_90_15, p_2_to_3_years_90_15, p_3_to_4_years_90_15, p_4_to_5_years_90_15])\n",
    "plt.title('Sensitivity Within Specific Time (Year) Ranges After Model Prediction (Specificity 90%, Ages 15-20)')\n",
    "plt.xlabel('Time Range (Years)')\n",
    "plt.ylabel('Sensitivity')"
   ]
  },
  {
   "cell_type": "markdown",
   "id": "2452787d-4da0-4cfe-921a-d3755804d487",
   "metadata": {},
   "source": [
    "#### Age predictions (Specificity 95%)"
   ]
  },
  {
   "cell_type": "code",
   "execution_count": 23,
   "id": "5b03017a-17ab-4eb5-ad77-503ab0326d34",
   "metadata": {},
   "outputs": [
    {
     "name": "stdout",
     "output_type": "stream",
     "text": [
      "Within 1 year (raw):  12\n",
      "1 to 2 years (raw):  10\n",
      "2 to 3 years (raw):  7\n",
      "3 to 4 years (raw):  14\n",
      "4 to 5 years (raw):  52\n",
      "\n",
      "For all people who ground truth got their cases assigned within 1 year, what percent did model predict at age 15?\n",
      "50.0%\n",
      "For all people who ground truth got their cases assigned between 1-2 years, what percent did model predict at age 15?\n",
      "52.63%\n",
      "For all people who ground truth got their cases assigned between 2-3 years, what percent did model predict at age 15?\n",
      "21.21%\n",
      "For all people who ground truth got their cases assigned between 3-4 years, what percent did model predict at age 15?\n",
      "45.16%\n",
      "For all people who ground truth got their cases assigned between 4-5 years, what percent did model predict at age 15?\n",
      "22.5%\n"
     ]
    }
   ],
   "source": [
    "p_within_1_year_95_15, p_1_to_2_years_95_15, p_2_to_3_years_95_15, p_3_to_4_years_95_15, \\\n",
    "    p_4_to_5_years_95_15, time_difference_btw_model_and_gt_95_15 = \\\n",
    "        get_true_positive_info(15, rf_preds_15, sensitivity_cases_95_15, df_within_1_year_15, \\\n",
    "                                df_1_to_2_years_15, df_2_to_3_years_15, df_3_to_4_years_15, \\\n",
    "                                df_4_to_5_years_15)"
   ]
  },
  {
   "cell_type": "code",
   "execution_count": 24,
   "id": "831b94da-4b46-46ea-8bdc-cf40e863e168",
   "metadata": {},
   "outputs": [
    {
     "name": "stdout",
     "output_type": "stream",
     "text": [
      "[47.96, 52.04]\n",
      "[50.06, 55.2]\n",
      "[20.22, 22.2]\n",
      "[43.6, 46.73]\n",
      "[21.65, 23.35]\n"
     ]
    }
   ],
   "source": [
    "calculate_ci(p_within_1_year_95_15, p_1_to_2_years_95_15, p_2_to_3_years_95_15, p_3_to_4_years_95_15, p_4_to_5_years_95_15, \\\n",
    "             df_within_1_year_15, df_1_to_2_years_15, df_2_to_3_years_15, df_3_to_4_years_15, df_4_to_5_years_15)"
   ]
  },
  {
   "cell_type": "code",
   "execution_count": 25,
   "id": "0bec48f7-bf32-4c0b-aaa1-58dc0d440cd0",
   "metadata": {},
   "outputs": [
    {
     "data": {
      "image/png": "[encoded data removed]",
      "text/plain": [
       "<Figure size 432x288 with 1 Axes>"
      ]
     },
     "metadata": {
      "needs_background": "light"
     },
     "output_type": "display_data"
    }
   ],
   "source": [
    "# for all true positives (ground truth cases) AND that the model correctly predicted were cases, plot histogram of time between model's prediction time and the ground truth prediction time\n",
    "bins = range(int(min(time_difference_btw_model_and_gt_95_15)), int(max(time_difference_btw_model_and_gt_95_15)) + 2)\n",
    "\n",
    "plt.hist(time_difference_btw_model_and_gt_95_15, bins=bins, ec='white')\n",
    "plt.title('Time between Meeting Case Definition and Model Prediction Time, for Correctly Predicted Cases (Specificity 95%, Ages 15-20)')\n",
    "plt.xlabel('Time difference between model prediction and actual case definition assignment (years)')\n",
    "plt.ylabel('Frequency')\n",
    "plt.show()"
   ]
  },
  {
   "cell_type": "code",
   "execution_count": 26,
   "id": "c33b9251-f026-4fd3-8fa7-94cead7c3391",
   "metadata": {},
   "outputs": [
    {
     "data": {
      "text/plain": [
       "Text(0, 0.5, 'Sensitivity')"
      ]
     },
     "execution_count": 26,
     "metadata": {},
     "output_type": "execute_result"
    },
    {
     "data": {
      "image/png": "[encoded data removed]",
      "text/plain": [
       "<Figure size 432x288 with 1 Axes>"
      ]
     },
     "metadata": {
      "needs_background": "light"
     },
     "output_type": "display_data"
    }
   ],
   "source": [
    "plt.bar(['Within 1 year', '1-2 years', '2-3 years', '3-4 years', '4-5 years'], \\\n",
    "        [p_within_1_year_95_15, p_1_to_2_years_95_15, p_2_to_3_years_95_15, p_3_to_4_years_95_15, p_4_to_5_years_95_15])\n",
    "plt.title('Sensitivity Within Specific Time (Year) Ranges After Model Prediction (Specificity 95%, Ages 15-20)')\n",
    "plt.xlabel('Time Range (Years)')\n",
    "plt.ylabel('Sensitivity')"
   ]
  },
  {
   "cell_type": "markdown",
   "id": "063eef27-b451-4b5d-9d81-4b3498e95edc",
   "metadata": {},
   "source": [
    "#### Age predictions (Specificity 99%)"
   ]
  },
  {
   "cell_type": "code",
   "execution_count": 27,
   "id": "33f04020-fbf3-4f9b-b628-3bdf3a61d4da",
   "metadata": {},
   "outputs": [
    {
     "name": "stdout",
     "output_type": "stream",
     "text": [
      "Within 1 year (raw):  7\n",
      "1 to 2 years (raw):  7\n",
      "2 to 3 years (raw):  4\n",
      "3 to 4 years (raw):  10\n",
      "4 to 5 years (raw):  32\n",
      "\n",
      "For all people who ground truth got their cases assigned within 1 year, what percent did model predict at age 15?\n",
      "29.17%\n",
      "For all people who ground truth got their cases assigned between 1-2 years, what percent did model predict at age 15?\n",
      "36.84%\n",
      "For all people who ground truth got their cases assigned between 2-3 years, what percent did model predict at age 15?\n",
      "12.12%\n",
      "For all people who ground truth got their cases assigned between 3-4 years, what percent did model predict at age 15?\n",
      "32.26%\n",
      "For all people who ground truth got their cases assigned between 4-5 years, what percent did model predict at age 15?\n",
      "10.0%\n"
     ]
    }
   ],
   "source": [
    "p_within_1_year_99_15, p_1_to_2_years_99_15, p_2_to_3_years_99_15, p_3_to_4_years_99_15, \\\n",
    "    p_4_to_5_years_99_15, time_difference_btw_model_and_gt_99_15 = \\\n",
    "        get_true_positive_info(15, rf_preds_15, sensitivity_cases_99_15, df_within_1_year_15, \\\n",
    "                                df_1_to_2_years_15, df_2_to_3_years_15, df_3_to_4_years_15, \\\n",
    "                                df_4_to_5_years_15)"
   ]
  },
  {
   "cell_type": "code",
   "execution_count": 28,
   "id": "f4e66edf-3e38-4f03-8289-07d877c3949d",
   "metadata": {},
   "outputs": [
    {
     "name": "stdout",
     "output_type": "stream",
     "text": [
      "[27.48, 30.85]\n",
      "[34.44, 39.24]\n",
      "[11.49, 12.75]\n",
      "[30.88, 33.64]\n",
      "[9.56, 10.44]\n"
     ]
    }
   ],
   "source": [
    "calculate_ci(p_within_1_year_99_15, p_1_to_2_years_99_15, p_2_to_3_years_99_15, p_3_to_4_years_99_15, p_4_to_5_years_99_15, \\\n",
    "             df_within_1_year_15, df_1_to_2_years_15, df_2_to_3_years_15, df_3_to_4_years_15, df_4_to_5_years_15)"
   ]
  },
  {
   "cell_type": "code",
   "execution_count": 29,
   "id": "b3596f09-28e0-4f26-880c-78afb436e0e9",
   "metadata": {},
   "outputs": [
    {
     "data": {
      "image/png": "[encoded data removed]",
      "text/plain": [
       "<Figure size 432x288 with 1 Axes>"
      ]
     },
     "metadata": {
      "needs_background": "light"
     },
     "output_type": "display_data"
    }
   ],
   "source": [
    "# for all true positives (ground truth cases) AND that the model correctly predicted were cases, plot histogram of time between model's prediction time and the ground truth prediction time\n",
    "bins = range(int(min(time_difference_btw_model_and_gt_99_15)), int(max(time_difference_btw_model_and_gt_99_15)) + 2)\n",
    "\n",
    "plt.hist(time_difference_btw_model_and_gt_99_15, bins=bins, ec='white')\n",
    "plt.title('Time between Meeting Case Definition and Model Prediction Time, for Correctly Predicted Cases (Specificity 99%, Ages 15-20)')\n",
    "plt.xlabel('Time difference between model prediction and actual case definition assignment (years)')\n",
    "plt.ylabel('Frequency')\n",
    "plt.show()"
   ]
  },
  {
   "cell_type": "code",
   "execution_count": 30,
   "id": "0ff382f4-74e5-4480-a835-69b76d161158",
   "metadata": {},
   "outputs": [
    {
     "data": {
      "text/plain": [
       "Text(0, 0.5, 'Sensitivity')"
      ]
     },
     "execution_count": 30,
     "metadata": {},
     "output_type": "execute_result"
    },
    {
     "data": {
      "image/png": "[encoded data removed]",
      "text/plain": [
       "<Figure size 432x288 with 1 Axes>"
      ]
     },
     "metadata": {
      "needs_background": "light"
     },
     "output_type": "display_data"
    }
   ],
   "source": [
    "plt.bar(['Within 1 year', '1-2 years', '2-3 years', '3-4 years', '4-5 years'], \\\n",
    "        [p_within_1_year_99_15, p_1_to_2_years_99_15, p_2_to_3_years_99_15, p_3_to_4_years_99_15, p_4_to_5_years_99_15])\n",
    "plt.title('Sensitivity Within Specific Time (Year) Ranges After Model Prediction (Specificity 99%, Ages 15-20)')\n",
    "plt.xlabel('Time Range (Years)')\n",
    "plt.ylabel('Sensitivity')"
   ]
  },
  {
   "cell_type": "code",
   "execution_count": 31,
   "id": "bfe602b5-9379-461b-bb27-14d480dfde24",
   "metadata": {},
   "outputs": [
    {
     "data": {
      "image/png": "[encoded data removed]",
      "text/plain": [
       "<Figure size 432x288 with 1 Axes>"
      ]
     },
     "metadata": {
      "needs_background": "light"
     },
     "output_type": "display_data"
    }
   ],
   "source": [
    "categories = ['Within 1 year', '1-2 years', '2-3 years', '3-4 years', '4-5 years']\n",
    "\n",
    "# Specificity 90%\n",
    "sensitivity_90 = [p_within_1_year_90_15, p_1_to_2_years_90_15, p_2_to_3_years_90_15, p_3_to_4_years_90_15, p_4_to_5_years_90_15]\n",
    "\n",
    "# Specificity 95%\n",
    "sensitivity_95 = [p_within_1_year_95_15, p_1_to_2_years_95_15, p_2_to_3_years_95_15, p_3_to_4_years_95_15, p_4_to_5_years_95_15]\n",
    "\n",
    "# Specificity 99%\n",
    "sensitivity_99 = [p_within_1_year_99_15, p_1_to_2_years_99_15, p_2_to_3_years_99_15, p_3_to_4_years_99_15, p_4_to_5_years_99_15]\n",
    "\n",
    "# Combine data for each category\n",
    "bar_width = 0.3\n",
    "index = np.arange(len(categories))\n",
    "\n",
    "plt.bar(index, sensitivity_90, bar_width, label='Specificity 90%')\n",
    "plt.bar(index + bar_width, sensitivity_95, bar_width, label='Specificity 95%')\n",
    "plt.bar(index + 2*bar_width, sensitivity_99, bar_width, label='Specificity 99%')\n",
    "\n",
    "plt.xlabel('Time Range (Years)')\n",
    "plt.ylabel('Sensitivity')\n",
    "plt.title('Sensitivity Within Specific Time (Year) Ranges After Model Prediction (Ages 15-20)')\n",
    "plt.xticks(index + bar_width, categories)\n",
    "plt.legend()\n",
    "\n",
    "plt.show()"
   ]
  },
  {
   "cell_type": "markdown",
   "id": "78cfd716-314f-4981-9f32-80972a59acd4",
   "metadata": {},
   "source": [
    "## Ages 20 - 25"
   ]
  },
  {
   "cell_type": "markdown",
   "id": "0f4a8f9b-4228-4717-af22-86b55b78e58a",
   "metadata": {},
   "source": [
    "#### Specificity Percentages"
   ]
  },
  {
   "cell_type": "code",
   "execution_count": 32,
   "id": "934c48c4-c3c8-41bd-854d-a45b99e017cd",
   "metadata": {},
   "outputs": [],
   "source": [
    "# total_cases_df_20, rf_preds_20, rf_cases_20, rf_controls_20, total_cases_20, df_within_1_year_20, df_1_to_2_years_20, df_2_to_3_years_20, \\\n",
    "#     df_3_to_4_years_20, df_4_to_5_years_20 = get_age_bucket_df('rf_model_pred_res_age_20.csv', 20)"
   ]
  },
  {
   "cell_type": "code",
   "execution_count": 17,
   "id": "fe2211a0-c402-40d4-8e84-c8525c0fd6b5",
   "metadata": {},
   "outputs": [
    {
     "name": "stdout",
     "output_type": "stream",
     "text": [
      "Within 1 year:  41\n",
      "1 to 2 years:  60\n",
      "2 to 3 years:  53\n",
      "3 to 4 years:  54\n",
      "4 to 5 years:  35\n",
      "Total RF testing cases:  243\n"
     ]
    }
   ],
   "source": [
    "total_cases_df_20, rf_preds_20, rf_cases_20, rf_controls_20, total_cases_20, df_within_1_year_20, df_1_to_2_years_20, df_2_to_3_years_20, \\\n",
    "    df_3_to_4_years_20, df_4_to_5_years_20 = get_age_bucket_df('./rf_model_pred_res_age_20.csv', 20)"
   ]
  },
  {
   "cell_type": "code",
   "execution_count": 18,
   "id": "b378087e-b9b1-4383-ba33-96a9a3efc4d3",
   "metadata": {},
   "outputs": [
    {
     "data": {
      "text/plain": [
       "19035"
      ]
     },
     "execution_count": 18,
     "metadata": {},
     "output_type": "execute_result"
    }
   ],
   "source": [
    "len(rf_controls_20)"
   ]
  },
  {
   "cell_type": "code",
   "execution_count": 19,
   "id": "449f6d2f-fa51-4974-8131-afd03c6be9ee",
   "metadata": {},
   "outputs": [
    {
     "data": {
      "text/plain": [
       "471"
      ]
     },
     "execution_count": 19,
     "metadata": {},
     "output_type": "execute_result"
    }
   ],
   "source": [
    "len(rf_cases_20)"
   ]
  },
  {
   "cell_type": "code",
   "execution_count": 45,
   "id": "08733e1f-0e54-442a-b94a-0ff8c02ef2f2",
   "metadata": {},
   "outputs": [
    {
     "data": {
      "text/plain": [
       "19035"
      ]
     },
     "execution_count": 45,
     "metadata": {},
     "output_type": "execute_result"
    }
   ],
   "source": [
    "952+18083"
   ]
  },
  {
   "cell_type": "code",
   "execution_count": 46,
   "id": "fce6211d-332c-478c-b06c-d380f98b2ae7",
   "metadata": {},
   "outputs": [
    {
     "name": "stdout",
     "output_type": "stream",
     "text": [
      "90% threshold:  0.013671875\n",
      "95% threshold:  0.0234375\n",
      "99% threshold:  0.060546875\n",
      "True positives:  76\n",
      "False positives:  951\n",
      "True negatives:  17991\n",
      "False negatives:  167\n",
      "\n",
      "Individuals predicted as cases, 95%:  1027\n",
      "Race breakdown of individuals above:  {'Black': 94, 'Unknown': 91, 'Other': 123, 'White': 683, 'Asian': 36}\n",
      "Race breakdown of true positives:  {'Black': 10, 'Unknown': 3, 'Other': 7, 'White': 55, 'Asian': 1}\n",
      "\n",
      "Specificity 90 (104/243):  0.4279835390946502\n",
      "Specificity 95 (76/243):  0.31275720164609055\n",
      "Specificity 99 (39/243):  0.16049382716049382\n"
     ]
    }
   ],
   "source": [
    "sensitivity_cases_90_20, sensitivity_cases_95_20, \\\n",
    "    sensitivity_cases_99_20 = get_sensitivity(rf_controls_20, total_cases_df_20, total_cases_20)"
   ]
  },
  {
   "cell_type": "code",
   "execution_count": 47,
   "id": "203422ad-fc14-4ce8-8947-649526dbe304",
   "metadata": {},
   "outputs": [
    {
     "data": {
      "text/plain": [
       "104"
      ]
     },
     "execution_count": 47,
     "metadata": {},
     "output_type": "execute_result"
    }
   ],
   "source": [
    "len(sensitivity_cases_90_20)"
   ]
  },
  {
   "cell_type": "markdown",
   "id": "f417db72-ba00-465a-ac7a-36adc2218c99",
   "metadata": {},
   "source": [
    "#### Age predictions (Specificity 90%)"
   ]
  },
  {
   "cell_type": "code",
   "execution_count": 37,
   "id": "314892b1-2515-43a5-a194-393150e71c30",
   "metadata": {},
   "outputs": [
    {
     "name": "stdout",
     "output_type": "stream",
     "text": [
      "Within 1 year (raw):  27\n",
      "1 to 2 years (raw):  27\n",
      "2 to 3 years (raw):  21\n",
      "3 to 4 years (raw):  18\n",
      "4 to 5 years (raw):  104\n",
      "\n",
      "For all people who ground truth got their cases assigned within 1 year, what percent did model predict at age 15?\n",
      "65.85%\n",
      "For all people who ground truth got their cases assigned between 1-2 years, what percent did model predict at age 15?\n",
      "45.0%\n",
      "For all people who ground truth got their cases assigned between 2-3 years, what percent did model predict at age 15?\n",
      "39.62%\n",
      "For all people who ground truth got their cases assigned between 3-4 years, what percent did model predict at age 15?\n",
      "33.33%\n",
      "For all people who ground truth got their cases assigned between 4-5 years, what percent did model predict at age 15?\n",
      "31.43%\n"
     ]
    }
   ],
   "source": [
    "p_within_1_year_90_20, p_1_to_2_years_90_20, p_2_to_3_years_90_20, p_3_to_4_years_90_20, \\\n",
    "    p_4_to_5_years_90_20, time_difference_btw_model_and_gt_90_20 = \\\n",
    "        get_true_positive_info(20, rf_preds_20, sensitivity_cases_90_20, df_within_1_year_20, \\\n",
    "                                df_1_to_2_years_20, df_2_to_3_years_20, df_3_to_4_years_20, \\\n",
    "                                df_4_to_5_years_20)"
   ]
  },
  {
   "cell_type": "code",
   "execution_count": 38,
   "id": "48e7493b-0980-42b9-86f1-4fa363a0524e",
   "metadata": {},
   "outputs": [
    {
     "name": "stdout",
     "output_type": "stream",
     "text": [
      "[64.78, 66.93]\n",
      "[44.19, 45.81]\n",
      "[38.74, 40.51]\n",
      "[32.53, 34.14]\n",
      "[30.22, 32.64]\n"
     ]
    }
   ],
   "source": [
    "calculate_ci(p_within_1_year_90_20, p_1_to_2_years_90_20, p_2_to_3_years_90_20, p_3_to_4_years_90_20, p_4_to_5_years_90_20, \\\n",
    "             df_within_1_year_20, df_1_to_2_years_20, df_2_to_3_years_20, df_3_to_4_years_20, df_4_to_5_years_20)"
   ]
  },
  {
   "cell_type": "code",
   "execution_count": 39,
   "id": "acdc699b-bd44-4d03-bf87-cd88d76c52aa",
   "metadata": {},
   "outputs": [
    {
     "data": {
      "image/png": "[encoded data removed]",
      "text/plain": [
       "<Figure size 432x288 with 1 Axes>"
      ]
     },
     "metadata": {
      "needs_background": "light"
     },
     "output_type": "display_data"
    }
   ],
   "source": [
    "# for all true positives (ground truth cases) AND that the model correctly predicted were cases, plot histogram of time between model's prediction time and the ground truth prediction time\n",
    "bins = range(int(min(time_difference_btw_model_and_gt_90_20)), int(max(time_difference_btw_model_and_gt_90_20)) + 2)\n",
    "\n",
    "plt.hist(time_difference_btw_model_and_gt_90_20, bins=bins, ec='white')\n",
    "plt.title('Time between Meeting Case Definition and Model Prediction Time, for Correctly Predicted Cases (Specificity 90%, Ages 20-25)')\n",
    "plt.xlabel('Time difference between model prediction and actual case definition assignment (years)')\n",
    "plt.ylabel('Frequency')\n",
    "plt.show()"
   ]
  },
  {
   "cell_type": "code",
   "execution_count": 40,
   "id": "9d030a1d-1911-4ad1-b3a8-b95113c9ab98",
   "metadata": {},
   "outputs": [
    {
     "data": {
      "text/plain": [
       "Text(0, 0.5, 'Sensitivity')"
      ]
     },
     "execution_count": 40,
     "metadata": {},
     "output_type": "execute_result"
    },
    {
     "data": {
      "image/png": "[encoded data removed]",
      "text/plain": [
       "<Figure size 432x288 with 1 Axes>"
      ]
     },
     "metadata": {
      "needs_background": "light"
     },
     "output_type": "display_data"
    }
   ],
   "source": [
    "plt.bar(['Within 1 year', '1-2 years', '2-3 years', '3-4 years', '4-5 years'], \\\n",
    "        [p_within_1_year_90_20, p_1_to_2_years_90_20, p_2_to_3_years_90_20, p_3_to_4_years_90_20, p_4_to_5_years_90_20])\n",
    "plt.title('Sensitivity Within Specific Time (Year) Ranges After Model Prediction (Specificity 90%, Ages 20-25)')\n",
    "plt.xlabel('Time Range (Years)')\n",
    "plt.ylabel('Sensitivity')"
   ]
  },
  {
   "cell_type": "markdown",
   "id": "839672d9-11b0-43f6-8df5-4f014eaffcbe",
   "metadata": {},
   "source": [
    "#### Age predictions (Specificity 95%)"
   ]
  },
  {
   "cell_type": "code",
   "execution_count": 41,
   "id": "b3ffb29b-1d9f-4bdc-b43e-b9ad8ea240e0",
   "metadata": {},
   "outputs": [
    {
     "name": "stdout",
     "output_type": "stream",
     "text": [
      "Within 1 year (raw):  24\n",
      "1 to 2 years (raw):  23\n",
      "2 to 3 years (raw):  15\n",
      "3 to 4 years (raw):  9\n",
      "4 to 5 years (raw):  76\n",
      "\n",
      "For all people who ground truth got their cases assigned within 1 year, what percent did model predict at age 15?\n",
      "58.54%\n",
      "For all people who ground truth got their cases assigned between 1-2 years, what percent did model predict at age 15?\n",
      "38.33%\n",
      "For all people who ground truth got their cases assigned between 2-3 years, what percent did model predict at age 15?\n",
      "28.3%\n",
      "For all people who ground truth got their cases assigned between 3-4 years, what percent did model predict at age 15?\n",
      "16.67%\n",
      "For all people who ground truth got their cases assigned between 4-5 years, what percent did model predict at age 15?\n",
      "14.29%\n"
     ]
    }
   ],
   "source": [
    "p_within_1_year_95_20, p_1_to_2_years_95_20, p_2_to_3_years_95_20, p_3_to_4_years_95_20, \\\n",
    "    p_4_to_5_years_95_20, time_difference_btw_model_and_gt_95_20 = \\\n",
    "        get_true_positive_info(20, rf_preds_20, sensitivity_cases_95_20, df_within_1_year_20, \\\n",
    "                                df_1_to_2_years_20, df_2_to_3_years_20, df_3_to_4_years_20, \\\n",
    "                                df_4_to_5_years_20)"
   ]
  },
  {
   "cell_type": "code",
   "execution_count": 42,
   "id": "04d5ed8f-f505-432c-845e-bf3ff38d5f72",
   "metadata": {},
   "outputs": [
    {
     "name": "stdout",
     "output_type": "stream",
     "text": [
      "[57.38, 59.7]\n",
      "[37.56, 39.11]\n",
      "[27.55, 29.05]\n",
      "[16.16, 17.17]\n",
      "[13.6, 14.97]\n"
     ]
    }
   ],
   "source": [
    "calculate_ci(p_within_1_year_95_20, p_1_to_2_years_95_20, p_2_to_3_years_95_20, p_3_to_4_years_95_20, p_4_to_5_years_95_20, \\\n",
    "             df_within_1_year_20, df_1_to_2_years_20, df_2_to_3_years_20, df_3_to_4_years_20, df_4_to_5_years_20)"
   ]
  },
  {
   "cell_type": "code",
   "execution_count": 43,
   "id": "6ac28f34-37d7-4f8e-9dcc-a25c82422320",
   "metadata": {},
   "outputs": [
    {
     "data": {
      "image/png": "[encoded data removed]",
      "text/plain": [
       "<Figure size 432x288 with 1 Axes>"
      ]
     },
     "metadata": {
      "needs_background": "light"
     },
     "output_type": "display_data"
    }
   ],
   "source": [
    "# for all true positives (ground truth cases) AND that the model correctly predicted were cases, plot histogram of time between model's prediction time and the ground truth prediction time\n",
    "bins = range(int(min(time_difference_btw_model_and_gt_95_20)), int(max(time_difference_btw_model_and_gt_95_20)) + 2)\n",
    "\n",
    "plt.hist(time_difference_btw_model_and_gt_95_20, bins=bins, ec='white')\n",
    "plt.title('Time between Meeting Case Definition and Model Prediction Time, for Correctly Predicted Cases (Specificity 95%, Ages 20-25)')\n",
    "plt.xlabel('Time difference between model prediction and actual case definition assignment (years)')\n",
    "plt.ylabel('Frequency')\n",
    "plt.show()"
   ]
  },
  {
   "cell_type": "code",
   "execution_count": 44,
   "id": "5a8ee1e1-3284-4eca-9827-31db50f368d3",
   "metadata": {},
   "outputs": [
    {
     "data": {
      "text/plain": [
       "Text(0, 0.5, 'Sensitivity')"
      ]
     },
     "execution_count": 44,
     "metadata": {},
     "output_type": "execute_result"
    },
    {
     "data": {
      "image/png": "[encoded data removed]",
      "text/plain": [
       "<Figure size 432x288 with 1 Axes>"
      ]
     },
     "metadata": {
      "needs_background": "light"
     },
     "output_type": "display_data"
    }
   ],
   "source": [
    "plt.bar(['Within 1 year', '1-2 years', '2-3 years', '3-4 years', '4-5 years'], \\\n",
    "        [p_within_1_year_95_20, p_1_to_2_years_95_20, p_2_to_3_years_95_20, p_3_to_4_years_95_20, p_4_to_5_years_95_20])\n",
    "plt.title('Sensitivity Within Specific Time (Year) Ranges After Model Prediction (Specificity 95%, Ages 20-25)')\n",
    "plt.xlabel('Time Range (Years)')\n",
    "plt.ylabel('Sensitivity')"
   ]
  },
  {
   "cell_type": "code",
   "execution_count": 45,
   "id": "4bf27735-15de-4047-a270-6897380c7c49",
   "metadata": {},
   "outputs": [
    {
     "data": {
      "text/plain": [
       "0.5853658536585366"
      ]
     },
     "execution_count": 45,
     "metadata": {},
     "output_type": "execute_result"
    }
   ],
   "source": [
    "p_within_1_year_95_20"
   ]
  },
  {
   "cell_type": "code",
   "execution_count": 46,
   "id": "b11f3bbe-4683-49ed-a370-6504c3e8aa22",
   "metadata": {},
   "outputs": [
    {
     "data": {
      "text/plain": [
       "0.38333333333333336"
      ]
     },
     "execution_count": 46,
     "metadata": {},
     "output_type": "execute_result"
    }
   ],
   "source": [
    "p_1_to_2_years_95_20"
   ]
  },
  {
   "cell_type": "code",
   "execution_count": null,
   "id": "dfd2e402-0dca-45ad-bfc1-a73a43059607",
   "metadata": {},
   "outputs": [],
   "source": [
    "auc_ci()"
   ]
  },
  {
   "cell_type": "markdown",
   "id": "14ce4d17-0cf2-44de-a8f2-5531edae2305",
   "metadata": {},
   "source": [
    "#### Age predictions (Specificity 99%)"
   ]
  },
  {
   "cell_type": "code",
   "execution_count": 47,
   "id": "eb5c4964-1395-4ea1-98ff-5b595c64af5f",
   "metadata": {},
   "outputs": [
    {
     "name": "stdout",
     "output_type": "stream",
     "text": [
      "Within 1 year (raw):  17\n",
      "1 to 2 years (raw):  12\n",
      "2 to 3 years (raw):  4\n",
      "3 to 4 years (raw):  4\n",
      "4 to 5 years (raw):  39\n",
      "\n",
      "For all people who ground truth got their cases assigned within 1 year, what percent did model predict at age 15?\n",
      "41.46%\n",
      "For all people who ground truth got their cases assigned between 1-2 years, what percent did model predict at age 15?\n",
      "20.0%\n",
      "For all people who ground truth got their cases assigned between 2-3 years, what percent did model predict at age 15?\n",
      "7.55%\n",
      "For all people who ground truth got their cases assigned between 3-4 years, what percent did model predict at age 15?\n",
      "7.41%\n",
      "For all people who ground truth got their cases assigned between 4-5 years, what percent did model predict at age 15?\n",
      "5.71%\n"
     ]
    }
   ],
   "source": [
    "p_within_1_year_99_20, p_1_to_2_years_99_20, p_2_to_3_years_99_20, p_3_to_4_years_99_20, \\\n",
    "    p_4_to_5_years_99_20, time_difference_btw_model_and_gt_99_20 = \\\n",
    "        get_true_positive_info(20, rf_preds_20, sensitivity_cases_99_20, df_within_1_year_20, \\\n",
    "                                df_1_to_2_years_20, df_2_to_3_years_20, df_3_to_4_years_20, \\\n",
    "                                df_4_to_5_years_20)"
   ]
  },
  {
   "cell_type": "code",
   "execution_count": 48,
   "id": "b9ad35ad-a21f-49e3-a428-8125503f80ff",
   "metadata": {},
   "outputs": [
    {
     "name": "stdout",
     "output_type": "stream",
     "text": [
      "[40.3, 42.62]\n",
      "[19.48, 20.52]\n",
      "[7.29, 7.81]\n",
      "[7.16, 7.66]\n",
      "[5.41, 6.02]\n"
     ]
    }
   ],
   "source": [
    "calculate_ci(p_within_1_year_99_20, p_1_to_2_years_99_20, p_2_to_3_years_99_20, p_3_to_4_years_99_20, p_4_to_5_years_99_20, \\\n",
    "             df_within_1_year_20, df_1_to_2_years_20, df_2_to_3_years_20, df_3_to_4_years_20, df_4_to_5_years_20)"
   ]
  },
  {
   "cell_type": "code",
   "execution_count": 49,
   "id": "14c2579a-897d-4959-84d1-e8b3efc70a2d",
   "metadata": {},
   "outputs": [
    {
     "data": {
      "image/png": "[encoded data removed]",
      "text/plain": [
       "<Figure size 432x288 with 1 Axes>"
      ]
     },
     "metadata": {
      "needs_background": "light"
     },
     "output_type": "display_data"
    }
   ],
   "source": [
    "# for all true positives (ground truth cases) AND that the model correctly predicted were cases, plot histogram of time between model's prediction time and the ground truth prediction time\n",
    "bins = range(int(min(time_difference_btw_model_and_gt_99_20)), int(max(time_difference_btw_model_and_gt_99_20)) + 2)\n",
    "\n",
    "plt.hist(time_difference_btw_model_and_gt_99_20, bins=bins, ec='white')\n",
    "plt.title('Time between Meeting Case Definition and Model Prediction Time, for Correctly Predicted Cases (Specificity 99%, Ages 20-25)')\n",
    "plt.xlabel('Time difference between model prediction and actual case definition assignment (years)')\n",
    "plt.ylabel('Frequency')\n",
    "plt.show()"
   ]
  },
  {
   "cell_type": "code",
   "execution_count": 50,
   "id": "39b1f642-ae3d-4c72-80fe-c9f172dd932b",
   "metadata": {},
   "outputs": [
    {
     "data": {
      "text/plain": [
       "Text(0, 0.5, 'Sensitivity')"
      ]
     },
     "execution_count": 50,
     "metadata": {},
     "output_type": "execute_result"
    },
    {
     "data": {
      "image/png": "[encoded data removed]",
      "text/plain": [
       "<Figure size 432x288 with 1 Axes>"
      ]
     },
     "metadata": {
      "needs_background": "light"
     },
     "output_type": "display_data"
    }
   ],
   "source": [
    "plt.bar(['Within 1 year', '1-2 years', '2-3 years', '3-4 years', '4-5 years'], \\\n",
    "        [p_within_1_year_99_20, p_1_to_2_years_99_20, p_2_to_3_years_99_20, p_3_to_4_years_99_20, p_4_to_5_years_99_20])\n",
    "plt.title('Sensitivity Within Specific Time (Year) Ranges After Model Prediction (Specificity 99%, Ages 20-25)')\n",
    "plt.xlabel('Time Range (Years)')\n",
    "plt.ylabel('Sensitivity')"
   ]
  },
  {
   "cell_type": "code",
   "execution_count": 51,
   "id": "ee326b91-66a7-423e-91a4-c1a2dc0cfacf",
   "metadata": {},
   "outputs": [
    {
     "data": {
      "image/png": "[encoded data removed]",
      "text/plain": [
       "<Figure size 432x288 with 1 Axes>"
      ]
     },
     "metadata": {
      "needs_background": "light"
     },
     "output_type": "display_data"
    }
   ],
   "source": [
    "categories = ['Within 1 year', '1-2 years', '2-3 years', '3-4 years', '4-5 years']\n",
    "\n",
    "# Specificity 90%\n",
    "sensitivity_90 = [p_within_1_year_90_20, p_1_to_2_years_90_20, p_2_to_3_years_90_20, p_3_to_4_years_90_20, p_4_to_5_years_90_20]\n",
    "\n",
    "# Specificity 95%\n",
    "sensitivity_95 = [p_within_1_year_95_20, p_1_to_2_years_95_20, p_2_to_3_years_95_20, p_3_to_4_years_95_20, p_4_to_5_years_95_20]\n",
    "\n",
    "# Specificity 99%\n",
    "sensitivity_99 = [p_within_1_year_99_20, p_1_to_2_years_99_20, p_2_to_3_years_99_20, p_3_to_4_years_99_20, p_4_to_5_years_99_20]\n",
    "\n",
    "# Combine data for each category\n",
    "bar_width = 0.3\n",
    "index = np.arange(len(categories))\n",
    "\n",
    "plt.bar(index, sensitivity_90, bar_width, label='Specificity 90%')\n",
    "plt.bar(index + bar_width, sensitivity_95, bar_width, label='Specificity 95%')\n",
    "plt.bar(index + 2*bar_width, sensitivity_99, bar_width, label='Specificity 99%')\n",
    "\n",
    "plt.xlabel('Time Range (Years)')\n",
    "plt.ylabel('Sensitivity')\n",
    "plt.title('Sensitivity Within Specific Time (Year) Ranges After Model Prediction (Ages 20-25)')\n",
    "plt.xticks(index + bar_width, categories)\n",
    "plt.legend()\n",
    "\n",
    "plt.show()"
   ]
  },
  {
   "cell_type": "markdown",
   "id": "6e5cadf3-77dc-4d97-8504-60c532411fcf",
   "metadata": {},
   "source": [
    "## Ages 25 - 30"
   ]
  },
  {
   "cell_type": "markdown",
   "id": "e3c7c435-a3a5-45b3-aacd-c7e02cca0382",
   "metadata": {},
   "source": [
    "#### Specificity Percentages"
   ]
  },
  {
   "cell_type": "code",
   "execution_count": 52,
   "id": "235d3ed9-3be7-44ce-bbb8-a2813d8fc09b",
   "metadata": {},
   "outputs": [],
   "source": [
    "# total_cases_df_25, rf_preds_25, rf_cases_25, rf_controls_25, total_cases_25, df_within_1_year_25, df_1_to_2_years_25, df_2_to_3_years_25, \\\n",
    "#     df_3_to_4_years_25, df_4_to_5_years_25 = get_age_bucket_df('rf_model_pred_res_age_25.csv', 25)"
   ]
  },
  {
   "cell_type": "code",
   "execution_count": 20,
   "id": "2dd9a8f7-a8a3-4402-a5a1-b1a138255d05",
   "metadata": {},
   "outputs": [
    {
     "name": "stdout",
     "output_type": "stream",
     "text": [
      "Within 1 year:  51\n",
      "1 to 2 years:  52\n",
      "2 to 3 years:  55\n",
      "3 to 4 years:  57\n",
      "4 to 5 years:  48\n",
      "Total RF testing cases:  263\n"
     ]
    }
   ],
   "source": [
    "total_cases_df_25, rf_preds_25, rf_cases_25, rf_controls_25, total_cases_25, df_within_1_year_25, df_1_to_2_years_25, df_2_to_3_years_25, \\\n",
    "    df_3_to_4_years_25, df_4_to_5_years_25 = get_age_bucket_df('./rf_model_pred_res_age_25.csv', 25)"
   ]
  },
  {
   "cell_type": "code",
   "execution_count": 21,
   "id": "e16689ee-1351-426e-9845-adb95c06f832",
   "metadata": {},
   "outputs": [
    {
     "data": {
      "text/plain": [
       "416"
      ]
     },
     "execution_count": 21,
     "metadata": {},
     "output_type": "execute_result"
    }
   ],
   "source": [
    "len(rf_cases_25)"
   ]
  },
  {
   "cell_type": "code",
   "execution_count": 49,
   "id": "23ee6b5a-51b5-4205-97d1-6c43489e0919",
   "metadata": {},
   "outputs": [],
   "source": [
    "# total_cases_25 / len(rf_preds_30)"
   ]
  },
  {
   "cell_type": "code",
   "execution_count": 50,
   "id": "427ff6ca-7f94-490b-8a2b-f097ddfcab57",
   "metadata": {},
   "outputs": [
    {
     "name": "stdout",
     "output_type": "stream",
     "text": [
      "90% threshold:  0.01171875\n",
      "95% threshold:  0.021484375\n",
      "99% threshold:  0.064453125\n",
      "True positives:  99\n",
      "False positives:  1311\n",
      "True negatives:  24841\n",
      "False negatives:  164\n",
      "\n",
      "Individuals predicted as cases, 95%:  1410\n",
      "Race breakdown of individuals above:  {'Black': 150, 'Unknown': 107, 'Other': 137, 'White': 980, 'Asian': 36}\n",
      "Race breakdown of true positives:  {'Black': 15, 'Unknown': 8, 'Other': 8, 'White': 64, 'Asian': 4}\n",
      "\n",
      "Specificity 90 (129/263):  0.49049429657794674\n",
      "Specificity 95 (99/263):  0.376425855513308\n",
      "Specificity 99 (43/263):  0.1634980988593156\n"
     ]
    }
   ],
   "source": [
    "# TODO: check with Yuval to confirm these numbers --> close but not quite matching table 2 sensitivities\n",
    "sensitivity_cases_90_25, sensitivity_cases_95_25, \\\n",
    "    sensitivity_cases_99_25 = get_sensitivity(rf_controls_25, total_cases_df_25, total_cases_25)"
   ]
  },
  {
   "cell_type": "code",
   "execution_count": 51,
   "id": "fbfeb5d1-0b04-4f51-8552-54ff061802e7",
   "metadata": {},
   "outputs": [
    {
     "data": {
      "text/plain": [
       "129"
      ]
     },
     "execution_count": 51,
     "metadata": {},
     "output_type": "execute_result"
    }
   ],
   "source": [
    "len(sensitivity_cases_90_25)"
   ]
  },
  {
   "cell_type": "markdown",
   "id": "d2c56751-f067-4532-b18b-5bc022ebafaa",
   "metadata": {},
   "source": [
    "#### Age predictions (Specificity 90%)"
   ]
  },
  {
   "cell_type": "code",
   "execution_count": 56,
   "id": "c19497ed-113f-42f0-b6bd-0085fc438160",
   "metadata": {},
   "outputs": [
    {
     "name": "stdout",
     "output_type": "stream",
     "text": [
      "Within 1 year (raw):  36\n",
      "1 to 2 years (raw):  27\n",
      "2 to 3 years (raw):  23\n",
      "3 to 4 years (raw):  21\n",
      "4 to 5 years (raw):  129\n",
      "\n",
      "For all people who ground truth got their cases assigned within 1 year, what percent did model predict at age 15?\n",
      "70.59%\n",
      "For all people who ground truth got their cases assigned between 1-2 years, what percent did model predict at age 15?\n",
      "51.92%\n",
      "For all people who ground truth got their cases assigned between 2-3 years, what percent did model predict at age 15?\n",
      "41.82%\n",
      "For all people who ground truth got their cases assigned between 3-4 years, what percent did model predict at age 15?\n",
      "36.84%\n",
      "For all people who ground truth got their cases assigned between 4-5 years, what percent did model predict at age 15?\n",
      "45.83%\n"
     ]
    }
   ],
   "source": [
    "p_within_1_year_90_25, p_1_to_2_years_90_25, p_2_to_3_years_90_25, p_3_to_4_years_90_25, \\\n",
    "    p_4_to_5_years_90_25, time_difference_btw_model_and_gt_90_25 = \\\n",
    "        get_true_positive_info(25, rf_preds_25, sensitivity_cases_90_25, df_within_1_year_25, \\\n",
    "                                df_1_to_2_years_25, df_2_to_3_years_25, df_3_to_4_years_25, \\\n",
    "                                df_4_to_5_years_25)"
   ]
  },
  {
   "cell_type": "code",
   "execution_count": 57,
   "id": "f31a17d9-15da-4116-97a4-95d89e304d66",
   "metadata": {},
   "outputs": [
    {
     "name": "stdout",
     "output_type": "stream",
     "text": [
      "[69.79, 71.39]\n",
      "[50.98, 52.86]\n",
      "[40.95, 42.69]\n",
      "[36.04, 37.64]\n",
      "[44.82, 46.85]\n"
     ]
    }
   ],
   "source": [
    "calculate_ci(p_within_1_year_90_25, p_1_to_2_years_90_25, p_2_to_3_years_90_25, p_3_to_4_years_90_25, p_4_to_5_years_90_25, \\\n",
    "             df_within_1_year_25, df_1_to_2_years_25, df_2_to_3_years_25, df_3_to_4_years_25, df_4_to_5_years_25)"
   ]
  },
  {
   "cell_type": "code",
   "execution_count": 58,
   "id": "88fa4a25-c13a-4337-ab5a-c383f1a46491",
   "metadata": {},
   "outputs": [
    {
     "data": {
      "image/png": "[encoded data removed]",
      "text/plain": [
       "<Figure size 432x288 with 1 Axes>"
      ]
     },
     "metadata": {
      "needs_background": "light"
     },
     "output_type": "display_data"
    }
   ],
   "source": [
    "# for all true positives (ground truth cases) AND that the model correctly predicted were cases, plot histogram of time between model's prediction time and the ground truth prediction time\n",
    "bins = range(int(min(time_difference_btw_model_and_gt_90_25)), int(max(time_difference_btw_model_and_gt_90_25)) + 2)\n",
    "\n",
    "plt.hist(time_difference_btw_model_and_gt_90_25, bins=bins, ec='white')\n",
    "plt.title('Time between Meeting Case Definition and Model Prediction Time, for Correctly Predicted Cases (Specificity 90%, Ages 25-30)')\n",
    "plt.xlabel('Time difference between model prediction and actual case definition assignment (years)')\n",
    "plt.ylabel('Frequency')\n",
    "plt.show()"
   ]
  },
  {
   "cell_type": "code",
   "execution_count": 59,
   "id": "fc94b881-b69c-4abb-aee6-5ca0e6222ae9",
   "metadata": {},
   "outputs": [
    {
     "data": {
      "text/plain": [
       "Text(0, 0.5, 'Sensitivity')"
      ]
     },
     "execution_count": 59,
     "metadata": {},
     "output_type": "execute_result"
    },
    {
     "data": {
      "image/png": "[encoded data removed]",
      "text/plain": [
       "<Figure size 432x288 with 1 Axes>"
      ]
     },
     "metadata": {
      "needs_background": "light"
     },
     "output_type": "display_data"
    }
   ],
   "source": [
    "plt.bar(['Within 1 year', '1-2 years', '2-3 years', '3-4 years', '4-5 years'], \\\n",
    "        [p_within_1_year_90_25, p_1_to_2_years_90_25, p_2_to_3_years_90_25, p_3_to_4_years_90_25, p_4_to_5_years_90_25])\n",
    "plt.title('Sensitivity Within Specific Time (Year) Ranges After Model Prediction (Specificity 90%, Ages 25-30)')\n",
    "plt.xlabel('Time Range (Years)')\n",
    "plt.ylabel('Sensitivity')"
   ]
  },
  {
   "cell_type": "markdown",
   "id": "07ed3469-6c43-4a5a-93b5-cd79a5c67f63",
   "metadata": {},
   "source": [
    "#### Age predictions (Specificity 95%)"
   ]
  },
  {
   "cell_type": "code",
   "execution_count": 60,
   "id": "04b89d82-5d43-4edf-bf59-587db915ae25",
   "metadata": {},
   "outputs": [
    {
     "name": "stdout",
     "output_type": "stream",
     "text": [
      "Within 1 year (raw):  31\n",
      "1 to 2 years (raw):  19\n",
      "2 to 3 years (raw):  19\n",
      "3 to 4 years (raw):  14\n",
      "4 to 5 years (raw):  99\n",
      "\n",
      "For all people who ground truth got their cases assigned within 1 year, what percent did model predict at age 15?\n",
      "60.78%\n",
      "For all people who ground truth got their cases assigned between 1-2 years, what percent did model predict at age 15?\n",
      "36.54%\n",
      "For all people who ground truth got their cases assigned between 2-3 years, what percent did model predict at age 15?\n",
      "34.55%\n",
      "For all people who ground truth got their cases assigned between 3-4 years, what percent did model predict at age 15?\n",
      "24.56%\n",
      "For all people who ground truth got their cases assigned between 4-5 years, what percent did model predict at age 15?\n",
      "33.33%\n"
     ]
    }
   ],
   "source": [
    "p_within_1_year_95_25, p_1_to_2_years_95_25, p_2_to_3_years_95_25, p_3_to_4_years_95_25, \\\n",
    "    p_4_to_5_years_95_25, time_difference_btw_model_and_gt_95_25 = \\\n",
    "        get_true_positive_info(25, rf_preds_25, sensitivity_cases_95_25, df_within_1_year_25, \\\n",
    "                                df_1_to_2_years_25, df_2_to_3_years_25, df_3_to_4_years_25, \\\n",
    "                                df_4_to_5_years_25)"
   ]
  },
  {
   "cell_type": "code",
   "execution_count": 61,
   "id": "c7d0693d-ed48-450b-8943-312b007340ab",
   "metadata": {},
   "outputs": [
    {
     "name": "stdout",
     "output_type": "stream",
     "text": [
      "[59.87, 61.7]\n",
      "[35.66, 37.41]\n",
      "[33.74, 35.35]\n",
      "[23.92, 25.2]\n",
      "[32.43, 34.24]\n"
     ]
    }
   ],
   "source": [
    "calculate_ci(p_within_1_year_95_25, p_1_to_2_years_95_25, p_2_to_3_years_95_25, p_3_to_4_years_95_25, p_4_to_5_years_95_25, \\\n",
    "             df_within_1_year_25, df_1_to_2_years_25, df_2_to_3_years_25, df_3_to_4_years_25, df_4_to_5_years_25)"
   ]
  },
  {
   "cell_type": "code",
   "execution_count": 62,
   "id": "0915a507-14e5-47a4-bc2a-6e29377fb077",
   "metadata": {},
   "outputs": [
    {
     "data": {
      "image/png": "[encoded data removed]",
      "text/plain": [
       "<Figure size 432x288 with 1 Axes>"
      ]
     },
     "metadata": {
      "needs_background": "light"
     },
     "output_type": "display_data"
    }
   ],
   "source": [
    "# for all true positives (ground truth cases) AND that the model correctly predicted were cases, plot histogram of time between model's prediction time and the ground truth prediction time\n",
    "bins = range(int(min(time_difference_btw_model_and_gt_95_25)), int(max(time_difference_btw_model_and_gt_95_25)) + 2)\n",
    "\n",
    "plt.hist(time_difference_btw_model_and_gt_95_25, bins=bins, ec='white')\n",
    "plt.title('Time between Meeting Case Definition and Model Prediction Time, for Correctly Predicted Cases (Specificity 95%, Ages 25-30)')\n",
    "plt.xlabel('Time difference between model prediction and actual case definition assignment (years)')\n",
    "plt.ylabel('Frequency')\n",
    "plt.show()"
   ]
  },
  {
   "cell_type": "code",
   "execution_count": 63,
   "id": "8587c423-177e-465c-bbb3-f7d3c8ee2074",
   "metadata": {},
   "outputs": [
    {
     "data": {
      "text/plain": [
       "Text(0, 0.5, 'Sensitivity')"
      ]
     },
     "execution_count": 63,
     "metadata": {},
     "output_type": "execute_result"
    },
    {
     "data": {
      "image/png": "[encoded data removed]",
      "text/plain": [
       "<Figure size 432x288 with 1 Axes>"
      ]
     },
     "metadata": {
      "needs_background": "light"
     },
     "output_type": "display_data"
    }
   ],
   "source": [
    "plt.bar(['Within 1 year', '1-2 years', '2-3 years', '3-4 years', '4-5 years'], \\\n",
    "        [p_within_1_year_95_25, p_1_to_2_years_95_25, p_2_to_3_years_95_25, p_3_to_4_years_95_25, p_4_to_5_years_95_25])\n",
    "plt.title('Sensitivity Within Specific Time (Year) Ranges After Model Prediction (Specificity 95%, Ages 25-30)')\n",
    "plt.xlabel('Time Range (Years)')\n",
    "plt.ylabel('Sensitivity')"
   ]
  },
  {
   "cell_type": "markdown",
   "id": "816cea6e-a4d3-4f37-a53b-1b4a67ae1e79",
   "metadata": {},
   "source": [
    "#### Age predictions (Specificity 99%)"
   ]
  },
  {
   "cell_type": "code",
   "execution_count": 64,
   "id": "46333abc-b991-407e-9d7c-2ec0646ec375",
   "metadata": {},
   "outputs": [
    {
     "name": "stdout",
     "output_type": "stream",
     "text": [
      "Within 1 year (raw):  14\n",
      "1 to 2 years (raw):  10\n",
      "2 to 3 years (raw):  9\n",
      "3 to 4 years (raw):  4\n",
      "4 to 5 years (raw):  43\n",
      "\n",
      "For all people who ground truth got their cases assigned within 1 year, what percent did model predict at age 15?\n",
      "27.45%\n",
      "For all people who ground truth got their cases assigned between 1-2 years, what percent did model predict at age 15?\n",
      "19.23%\n",
      "For all people who ground truth got their cases assigned between 2-3 years, what percent did model predict at age 15?\n",
      "16.36%\n",
      "For all people who ground truth got their cases assigned between 3-4 years, what percent did model predict at age 15?\n",
      "7.02%\n",
      "For all people who ground truth got their cases assigned between 4-5 years, what percent did model predict at age 15?\n",
      "12.5%\n"
     ]
    }
   ],
   "source": [
    "p_within_1_year_99_25, p_1_to_2_years_99_25, p_2_to_3_years_99_25, p_3_to_4_years_99_25, \\\n",
    "    p_4_to_5_years_99_25, time_difference_btw_model_and_gt_99_25 = \\\n",
    "        get_true_positive_info(25, rf_preds_25, sensitivity_cases_99_25, df_within_1_year_25, \\\n",
    "                                df_1_to_2_years_25, df_2_to_3_years_25, df_3_to_4_years_25, \\\n",
    "                                df_4_to_5_years_25)"
   ]
  },
  {
   "cell_type": "code",
   "execution_count": 65,
   "id": "877513c2-18d9-4b6f-b443-2a426e19e757",
   "metadata": {},
   "outputs": [
    {
     "name": "stdout",
     "output_type": "stream",
     "text": [
      "[26.69, 28.22]\n",
      "[18.65, 19.82]\n",
      "[15.88, 16.85]\n",
      "[6.79, 7.24]\n",
      "[12.05, 12.95]\n"
     ]
    }
   ],
   "source": [
    "calculate_ci(p_within_1_year_99_25, p_1_to_2_years_99_25, p_2_to_3_years_99_25, p_3_to_4_years_99_25, p_4_to_5_years_99_25, \\\n",
    "             df_within_1_year_25, df_1_to_2_years_25, df_2_to_3_years_25, df_3_to_4_years_25, df_4_to_5_years_25)"
   ]
  },
  {
   "cell_type": "code",
   "execution_count": 66,
   "id": "ce75a275-a3bd-4be8-b982-1d0e0395a700",
   "metadata": {},
   "outputs": [
    {
     "data": {
      "image/png": "[encoded data removed]",
      "text/plain": [
       "<Figure size 432x288 with 1 Axes>"
      ]
     },
     "metadata": {
      "needs_background": "light"
     },
     "output_type": "display_data"
    }
   ],
   "source": [
    "# for all true positives (ground truth cases) AND that the model correctly predicted were cases, plot histogram of time between model's prediction time and the ground truth prediction time\n",
    "bins = range(int(min(time_difference_btw_model_and_gt_99_25)), int(max(time_difference_btw_model_and_gt_99_25)) + 2)\n",
    "\n",
    "plt.hist(time_difference_btw_model_and_gt_99_25, bins=bins, ec='white')\n",
    "plt.title('Time between Meeting Case Definition and Model Prediction Time, for Correctly Predicted Cases (Specificity 99%, Ages 25-30)')\n",
    "plt.xlabel('Time difference between model prediction and actual case definition assignment (years)')\n",
    "plt.ylabel('Frequency')\n",
    "plt.show()"
   ]
  },
  {
   "cell_type": "code",
   "execution_count": 67,
   "id": "1c99d53d-98b4-420e-9fd8-f27da006f234",
   "metadata": {},
   "outputs": [
    {
     "data": {
      "text/plain": [
       "Text(0, 0.5, 'Sensitivity')"
      ]
     },
     "execution_count": 67,
     "metadata": {},
     "output_type": "execute_result"
    },
    {
     "data": {
      "image/png": "[encoded data removed]",
      "text/plain": [
       "<Figure size 432x288 with 1 Axes>"
      ]
     },
     "metadata": {
      "needs_background": "light"
     },
     "output_type": "display_data"
    }
   ],
   "source": [
    "plt.bar(['Within 1 year', '1-2 years', '2-3 years', '3-4 years', '4-5 years'], \\\n",
    "        [p_within_1_year_99_25, p_1_to_2_years_99_25, p_2_to_3_years_99_25, p_3_to_4_years_99_25, p_4_to_5_years_99_25])\n",
    "plt.title('Sensitivity Within Specific Time (Year) Ranges After Model Prediction (Specificity 99%, Ages 25-30)')\n",
    "plt.xlabel('Time Range (Years)')\n",
    "plt.ylabel('Sensitivity')"
   ]
  },
  {
   "cell_type": "code",
   "execution_count": 68,
   "id": "f07e625d-0236-4263-a532-8d967dfe6242",
   "metadata": {},
   "outputs": [
    {
     "data": {
      "image/png": "[encoded data removed]",
      "text/plain": [
       "<Figure size 432x288 with 1 Axes>"
      ]
     },
     "metadata": {
      "needs_background": "light"
     },
     "output_type": "display_data"
    }
   ],
   "source": [
    "categories = ['Within 1 year', '1-2 years', '2-3 years', '3-4 years', '4-5 years']\n",
    "\n",
    "# Specificity 90%\n",
    "sensitivity_90 = [p_within_1_year_90_25, p_1_to_2_years_90_25, p_2_to_3_years_90_25, p_3_to_4_years_90_25, p_4_to_5_years_90_25]\n",
    "\n",
    "# Specificity 95%\n",
    "sensitivity_95 = [p_within_1_year_95_25, p_1_to_2_years_95_25, p_2_to_3_years_95_25, p_3_to_4_years_95_25, p_4_to_5_years_95_25]\n",
    "\n",
    "# Specificity 99%\n",
    "sensitivity_99 = [p_within_1_year_99_25, p_1_to_2_years_99_25, p_2_to_3_years_99_25, p_3_to_4_years_99_25, p_4_to_5_years_99_25]\n",
    "\n",
    "# Combine data for each category\n",
    "bar_width = 0.3\n",
    "index = np.arange(len(categories))\n",
    "\n",
    "plt.bar(index, sensitivity_90, bar_width, label='Specificity 90%')\n",
    "plt.bar(index + bar_width, sensitivity_95, bar_width, label='Specificity 95%')\n",
    "plt.bar(index + 2*bar_width, sensitivity_99, bar_width, label='Specificity 99%')\n",
    "\n",
    "plt.xlabel('Time Range (Years)')\n",
    "plt.ylabel('Sensitivity')\n",
    "plt.title('Sensitivity Within Specific Time (Year) Ranges After Model Prediction (Ages 25-30)')\n",
    "plt.xticks(index + bar_width, categories)\n",
    "plt.legend()\n",
    "\n",
    "plt.show()"
   ]
  },
  {
   "cell_type": "markdown",
   "id": "e9d766e4-1a67-4824-b8f9-204a416733cf",
   "metadata": {},
   "source": [
    "## Ages 30 - 35"
   ]
  },
  {
   "cell_type": "markdown",
   "id": "e319b7b7-0bc5-4e74-a73a-9f0fb9f733c8",
   "metadata": {},
   "source": [
    "#### Specificity Percentages"
   ]
  },
  {
   "cell_type": "code",
   "execution_count": 69,
   "id": "ac188fac-0ac4-4200-9352-e65e59032c7f",
   "metadata": {},
   "outputs": [],
   "source": [
    "# total_cases_df_30, rf_preds_30, rf_cases_30, rf_controls_30, total_cases_30, df_within_1_year_30, df_1_to_2_years_30, df_2_to_3_years_30, \\\n",
    "#     df_3_to_4_years_30, df_4_to_5_years_30 = get_age_bucket_df('rf_model_pred_res_age_30.csv', 30)"
   ]
  },
  {
   "cell_type": "code",
   "execution_count": 22,
   "id": "44e9c614-8466-4a8c-8bf9-6106b36c931a",
   "metadata": {},
   "outputs": [
    {
     "name": "stdout",
     "output_type": "stream",
     "text": [
      "Within 1 year:  49\n",
      "1 to 2 years:  76\n",
      "2 to 3 years:  51\n",
      "3 to 4 years:  53\n",
      "4 to 5 years:  42\n",
      "Total RF testing cases:  271\n"
     ]
    }
   ],
   "source": [
    "total_cases_df_30, rf_preds_30, rf_cases_30, rf_controls_30, total_cases_30, df_within_1_year_30, df_1_to_2_years_30, df_2_to_3_years_30, \\\n",
    "    df_3_to_4_years_30, df_4_to_5_years_30 = get_age_bucket_df('./rf_model_pred_res_age_30.csv', 30)"
   ]
  },
  {
   "cell_type": "code",
   "execution_count": 23,
   "id": "b37e2a9c-6794-450c-97d0-24765ace3987",
   "metadata": {},
   "outputs": [
    {
     "data": {
      "text/plain": [
       "0.008629199172106352"
      ]
     },
     "execution_count": 23,
     "metadata": {},
     "output_type": "execute_result"
    }
   ],
   "source": [
    "total_cases_30 / len(rf_preds_30)"
   ]
  },
  {
   "cell_type": "code",
   "execution_count": 24,
   "id": "12806260-642b-46bd-872c-e2058a114eb2",
   "metadata": {},
   "outputs": [
    {
     "data": {
      "text/plain": [
       "273"
      ]
     },
     "execution_count": 24,
     "metadata": {},
     "output_type": "execute_result"
    }
   ],
   "source": [
    "len(rf_cases_30)"
   ]
  },
  {
   "cell_type": "code",
   "execution_count": 54,
   "id": "6440149a-b005-4c73-9a34-942a9049beca",
   "metadata": {},
   "outputs": [
    {
     "name": "stdout",
     "output_type": "stream",
     "text": [
      "90% threshold:  0.009765625\n",
      "95% threshold:  0.01953125\n",
      "99% threshold:  0.064453125\n",
      "True positives:  124\n",
      "False positives:  1556\n",
      "True negatives:  29425\n",
      "False negatives:  147\n",
      "\n",
      "Individuals predicted as cases, 95%:  1680\n",
      "Race breakdown of individuals above:  {'Black': 196, 'Unknown': 126, 'Other': 184, 'White': 1137, 'Asian': 37}\n",
      "Race breakdown of true positives:  {'Black': 17, 'Unknown': 5, 'Other': 10, 'White': 90, 'Asian': 2}\n",
      "\n",
      "Specificity 90 (156/271):  0.5756457564575646\n",
      "Specificity 95 (124/271):  0.4575645756457565\n",
      "Specificity 99 (60/271):  0.22140221402214022\n"
     ]
    }
   ],
   "source": [
    "sensitivity_cases_90_30, sensitivity_cases_95_30, \\\n",
    "    sensitivity_cases_99_30 = get_sensitivity(rf_controls_30, total_cases_df_30, total_cases_30)"
   ]
  },
  {
   "cell_type": "code",
   "execution_count": 55,
   "id": "78a466db-d1cf-4804-b8d2-753915d24b58",
   "metadata": {},
   "outputs": [
    {
     "data": {
      "text/plain": [
       "156"
      ]
     },
     "execution_count": 55,
     "metadata": {},
     "output_type": "execute_result"
    }
   ],
   "source": [
    "len(sensitivity_cases_90_30)"
   ]
  },
  {
   "cell_type": "markdown",
   "id": "9d2bd61d-ec18-4ff0-875c-8dab8ea148d0",
   "metadata": {},
   "source": [
    "#### Age predictions (Specificity 90%)"
   ]
  },
  {
   "cell_type": "code",
   "execution_count": 73,
   "id": "ba108392-29f3-4ca3-bf7e-3f1f13b56c5a",
   "metadata": {},
   "outputs": [
    {
     "name": "stdout",
     "output_type": "stream",
     "text": [
      "Within 1 year (raw):  33\n",
      "1 to 2 years (raw):  47\n",
      "2 to 3 years (raw):  27\n",
      "3 to 4 years (raw):  27\n",
      "4 to 5 years (raw):  156\n",
      "\n",
      "For all people who ground truth got their cases assigned within 1 year, what percent did model predict at age 15?\n",
      "67.35%\n",
      "For all people who ground truth got their cases assigned between 1-2 years, what percent did model predict at age 15?\n",
      "61.84%\n",
      "For all people who ground truth got their cases assigned between 2-3 years, what percent did model predict at age 15?\n",
      "52.94%\n",
      "For all people who ground truth got their cases assigned between 3-4 years, what percent did model predict at age 15?\n",
      "50.94%\n",
      "For all people who ground truth got their cases assigned between 4-5 years, what percent did model predict at age 15?\n",
      "52.38%\n"
     ]
    }
   ],
   "source": [
    "p_within_1_year_90_30, p_1_to_2_years_90_30, p_2_to_3_years_90_30, p_3_to_4_years_90_30, \\\n",
    "    p_4_to_5_years_90_30, time_difference_btw_model_and_gt_90_30 = \\\n",
    "        get_true_positive_info(30, rf_preds_30, sensitivity_cases_90_30, df_within_1_year_30, \\\n",
    "                                df_1_to_2_years_30, df_2_to_3_years_30, df_3_to_4_years_30, \\\n",
    "                                df_4_to_5_years_30)"
   ]
  },
  {
   "cell_type": "code",
   "execution_count": 74,
   "id": "136d81ae-4788-4489-abee-21dd7a870b38",
   "metadata": {},
   "outputs": [
    {
     "name": "stdout",
     "output_type": "stream",
     "text": [
      "[66.47, 68.23]\n",
      "[61.23, 62.45]\n",
      "[51.98, 53.9]\n",
      "[50.02, 51.87]\n",
      "[51.22, 53.54]\n"
     ]
    }
   ],
   "source": [
    "calculate_ci(p_within_1_year_90_30, p_1_to_2_years_90_30, p_2_to_3_years_90_30, p_3_to_4_years_90_30, p_4_to_5_years_90_30, \\\n",
    "             df_within_1_year_30, df_1_to_2_years_30, df_2_to_3_years_30, df_3_to_4_years_30, df_4_to_5_years_30)"
   ]
  },
  {
   "cell_type": "code",
   "execution_count": 75,
   "id": "85f2d962-7702-401a-bb88-25b29270a9b3",
   "metadata": {},
   "outputs": [
    {
     "data": {
      "image/png": "[encoded data removed]",
      "text/plain": [
       "<Figure size 432x288 with 1 Axes>"
      ]
     },
     "metadata": {
      "needs_background": "light"
     },
     "output_type": "display_data"
    }
   ],
   "source": [
    "# for all true positives (ground truth cases) AND that the model correctly predicted were cases, plot histogram of time between model's prediction time and the ground truth prediction time\n",
    "bins = range(int(min(time_difference_btw_model_and_gt_90_30)), int(max(time_difference_btw_model_and_gt_90_30)) + 2)\n",
    "\n",
    "plt.hist(time_difference_btw_model_and_gt_90_30, bins=bins, ec='white')\n",
    "plt.title('Time between Meeting Case Definition and Model Prediction Time, for Correctly Predicted Cases (Specificity 90%, Ages 30-35)')\n",
    "plt.xlabel('Time difference between model prediction and actual case definition assignment (years)')\n",
    "plt.ylabel('Frequency')\n",
    "plt.show()"
   ]
  },
  {
   "cell_type": "code",
   "execution_count": 76,
   "id": "67d20fec-476d-4676-a5a0-43b74ed1879f",
   "metadata": {},
   "outputs": [
    {
     "data": {
      "text/plain": [
       "Text(0, 0.5, 'Sensitivity')"
      ]
     },
     "execution_count": 76,
     "metadata": {},
     "output_type": "execute_result"
    },
    {
     "data": {
      "image/png": "[encoded data removed]",
      "text/plain": [
       "<Figure size 432x288 with 1 Axes>"
      ]
     },
     "metadata": {
      "needs_background": "light"
     },
     "output_type": "display_data"
    }
   ],
   "source": [
    "plt.bar(['Within 1 year', '1-2 years', '2-3 years', '3-4 years', '4-5 years'], \\\n",
    "        [p_within_1_year_90_30, p_1_to_2_years_90_30, p_2_to_3_years_90_30, p_3_to_4_years_90_30, p_4_to_5_years_90_30])\n",
    "plt.title('Sensitivity Within Specific Time (Year) Ranges After Model Prediction (Specificity 90%, Ages 30-35)')\n",
    "plt.xlabel('Time Range (Years)')\n",
    "plt.ylabel('Sensitivity')"
   ]
  },
  {
   "cell_type": "markdown",
   "id": "d5c9f222-dfb9-4040-bbd2-7310c2f50edf",
   "metadata": {},
   "source": [
    "#### Age predictions (Specificity 95%)"
   ]
  },
  {
   "cell_type": "code",
   "execution_count": 77,
   "id": "caa14088-8d2e-4561-bd11-7023aa5d5ffc",
   "metadata": {},
   "outputs": [
    {
     "name": "stdout",
     "output_type": "stream",
     "text": [
      "Within 1 year (raw):  26\n",
      "1 to 2 years (raw):  37\n",
      "2 to 3 years (raw):  21\n",
      "3 to 4 years (raw):  20\n",
      "4 to 5 years (raw):  124\n",
      "\n",
      "For all people who ground truth got their cases assigned within 1 year, what percent did model predict at age 15?\n",
      "53.06%\n",
      "For all people who ground truth got their cases assigned between 1-2 years, what percent did model predict at age 15?\n",
      "48.68%\n",
      "For all people who ground truth got their cases assigned between 2-3 years, what percent did model predict at age 15?\n",
      "41.18%\n",
      "For all people who ground truth got their cases assigned between 3-4 years, what percent did model predict at age 15?\n",
      "37.74%\n",
      "For all people who ground truth got their cases assigned between 4-5 years, what percent did model predict at age 15?\n",
      "47.62%\n"
     ]
    }
   ],
   "source": [
    "p_within_1_year_95_30, p_1_to_2_years_95_30, p_2_to_3_years_95_30, p_3_to_4_years_95_30, \\\n",
    "    p_4_to_5_years_95_30, time_difference_btw_model_and_gt_95_30 = \\\n",
    "        get_true_positive_info(30, rf_preds_30, sensitivity_cases_95_30, df_within_1_year_30, \\\n",
    "                                df_1_to_2_years_30, df_2_to_3_years_30, df_3_to_4_years_30, \\\n",
    "                                df_4_to_5_years_30)"
   ]
  },
  {
   "cell_type": "code",
   "execution_count": 78,
   "id": "0ad911ff-7499-4c83-a523-b6395835fb9f",
   "metadata": {},
   "outputs": [
    {
     "name": "stdout",
     "output_type": "stream",
     "text": [
      "[52.06, 54.06]\n",
      "[48.04, 49.33]\n",
      "[40.25, 42.11]\n",
      "[36.87, 38.6]\n",
      "[46.46, 48.78]\n"
     ]
    }
   ],
   "source": [
    "calculate_ci(p_within_1_year_95_30, p_1_to_2_years_95_30, p_2_to_3_years_95_30, p_3_to_4_years_95_30, p_4_to_5_years_95_30, \\\n",
    "             df_within_1_year_30, df_1_to_2_years_30, df_2_to_3_years_30, df_3_to_4_years_30, df_4_to_5_years_30)"
   ]
  },
  {
   "cell_type": "code",
   "execution_count": 79,
   "id": "1cc58a6b-f1bf-4e2e-bc77-5be8b66bce40",
   "metadata": {},
   "outputs": [
    {
     "data": {
      "image/png": "[encoded data removed]",
      "text/plain": [
       "<Figure size 432x288 with 1 Axes>"
      ]
     },
     "metadata": {
      "needs_background": "light"
     },
     "output_type": "display_data"
    }
   ],
   "source": [
    "# for all true positives (ground truth cases) AND that the model correctly predicted were cases, plot histogram of time between model's prediction time and the ground truth prediction time\n",
    "bins = range(int(min(time_difference_btw_model_and_gt_95_30)), int(max(time_difference_btw_model_and_gt_95_30)) + 2)\n",
    "\n",
    "plt.hist(time_difference_btw_model_and_gt_95_30, bins=bins, ec='white')\n",
    "plt.title('Time between Meeting Case Definition and Model Prediction Time, for Correctly Predicted Cases (Specificity 95%, Ages 30-35)')\n",
    "plt.xlabel('Time difference between model prediction and actual case definition assignment (years)')\n",
    "plt.ylabel('Frequency')\n",
    "plt.show()"
   ]
  },
  {
   "cell_type": "code",
   "execution_count": 80,
   "id": "b72c6a2d-cd86-4dc4-ae68-2f63c635166f",
   "metadata": {},
   "outputs": [
    {
     "data": {
      "text/plain": [
       "Text(0, 0.5, 'Sensitivity')"
      ]
     },
     "execution_count": 80,
     "metadata": {},
     "output_type": "execute_result"
    },
    {
     "data": {
      "image/png": "[encoded data removed]",
      "text/plain": [
       "<Figure size 432x288 with 1 Axes>"
      ]
     },
     "metadata": {
      "needs_background": "light"
     },
     "output_type": "display_data"
    }
   ],
   "source": [
    "plt.bar(['Within 1 year', '1-2 years', '2-3 years', '3-4 years', '4-5 years'], \\\n",
    "        [p_within_1_year_95_30, p_1_to_2_years_95_30, p_2_to_3_years_95_30, p_3_to_4_years_95_30, p_4_to_5_years_95_30])\n",
    "plt.title('Sensitivity Within Specific Time (Year) Ranges After Model Prediction (Specificity 95%, Ages 30-35)')\n",
    "plt.xlabel('Time Range (Years)')\n",
    "plt.ylabel('Sensitivity')"
   ]
  },
  {
   "cell_type": "markdown",
   "id": "c7e5893f-fd8b-4b0a-882f-dd8dbaeb097b",
   "metadata": {},
   "source": [
    "#### Age predictions (Specificity 99%)"
   ]
  },
  {
   "cell_type": "code",
   "execution_count": 81,
   "id": "3ccaaba6-f964-4bf0-a590-325199a8ef5e",
   "metadata": {},
   "outputs": [
    {
     "name": "stdout",
     "output_type": "stream",
     "text": [
      "Within 1 year (raw):  14\n",
      "1 to 2 years (raw):  21\n",
      "2 to 3 years (raw):  8\n",
      "3 to 4 years (raw):  9\n",
      "4 to 5 years (raw):  60\n",
      "\n",
      "For all people who ground truth got their cases assigned within 1 year, what percent did model predict at age 15?\n",
      "28.57%\n",
      "For all people who ground truth got their cases assigned between 1-2 years, what percent did model predict at age 15?\n",
      "27.63%\n",
      "For all people who ground truth got their cases assigned between 2-3 years, what percent did model predict at age 15?\n",
      "15.69%\n",
      "For all people who ground truth got their cases assigned between 3-4 years, what percent did model predict at age 15?\n",
      "16.98%\n",
      "For all people who ground truth got their cases assigned between 4-5 years, what percent did model predict at age 15?\n",
      "19.05%\n"
     ]
    }
   ],
   "source": [
    "p_within_1_year_99_30, p_1_to_2_years_99_30, p_2_to_3_years_99_30, p_3_to_4_years_99_30, \\\n",
    "    p_4_to_5_years_99_30, time_difference_btw_model_and_gt_99_30 = \\\n",
    "        get_true_positive_info(30, rf_preds_30, sensitivity_cases_99_30, df_within_1_year_30, \\\n",
    "                                df_1_to_2_years_30, df_2_to_3_years_30, df_3_to_4_years_30, \\\n",
    "                                df_4_to_5_years_30)"
   ]
  },
  {
   "cell_type": "code",
   "execution_count": 82,
   "id": "2165f0f0-d80d-4675-92fd-104b89fb6f31",
   "metadata": {},
   "outputs": [
    {
     "name": "stdout",
     "output_type": "stream",
     "text": [
      "[27.76, 29.39]\n",
      "[27.12, 28.15]\n",
      "[15.18, 16.19]\n",
      "[16.46, 17.5]\n",
      "[18.33, 19.77]\n"
     ]
    }
   ],
   "source": [
    "calculate_ci(p_within_1_year_99_30, p_1_to_2_years_99_30, p_2_to_3_years_99_30, p_3_to_4_years_99_30, p_4_to_5_years_99_30, \\\n",
    "             df_within_1_year_30, df_1_to_2_years_30, df_2_to_3_years_30, df_3_to_4_years_30, df_4_to_5_years_30)"
   ]
  },
  {
   "cell_type": "code",
   "execution_count": 83,
   "id": "6c32369b-703d-4e0b-8ab3-e922e5eda684",
   "metadata": {},
   "outputs": [
    {
     "data": {
      "image/png": "[encoded data removed]",
      "text/plain": [
       "<Figure size 432x288 with 1 Axes>"
      ]
     },
     "metadata": {
      "needs_background": "light"
     },
     "output_type": "display_data"
    }
   ],
   "source": [
    "# for all true positives (ground truth cases) AND that the model correctly predicted were cases, plot histogram of time between model's prediction time and the ground truth prediction time\n",
    "bins = range(int(min(time_difference_btw_model_and_gt_99_30)), int(max(time_difference_btw_model_and_gt_99_30)) + 2)\n",
    "\n",
    "plt.hist(time_difference_btw_model_and_gt_99_30, bins=bins, ec='white')\n",
    "plt.title('Time between Meeting Case Definition and Model Prediction Time, for Correctly Predicted Cases (Specificity 99%, Ages 30-35)')\n",
    "plt.xlabel('Time difference between model prediction and actual case definition assignment (years)')\n",
    "plt.ylabel('Frequency')\n",
    "plt.show()"
   ]
  },
  {
   "cell_type": "code",
   "execution_count": 84,
   "id": "7cb7bda1-1b63-4d89-aea0-476da8dba604",
   "metadata": {},
   "outputs": [
    {
     "data": {
      "text/plain": [
       "Text(0, 0.5, 'Sensitivity')"
      ]
     },
     "execution_count": 84,
     "metadata": {},
     "output_type": "execute_result"
    },
    {
     "data": {
      "image/png": "[encoded data removed]",
      "text/plain": [
       "<Figure size 432x288 with 1 Axes>"
      ]
     },
     "metadata": {
      "needs_background": "light"
     },
     "output_type": "display_data"
    }
   ],
   "source": [
    "plt.bar(['Within 1 year', '1-2 years', '2-3 years', '3-4 years', '4-5 years'], \\\n",
    "        [p_within_1_year_99_30, p_1_to_2_years_99_30, p_2_to_3_years_99_30, p_3_to_4_years_99_30, p_4_to_5_years_99_30])\n",
    "plt.title('Sensitivity Within Specific Time (Year) Ranges After Model Prediction (Specificity 99%, Ages 30-35)')\n",
    "plt.xlabel('Time Range (Years)')\n",
    "plt.ylabel('Sensitivity')"
   ]
  },
  {
   "cell_type": "code",
   "execution_count": 85,
   "id": "3d768f8b-7733-4d4b-ac50-ef6c185c53e2",
   "metadata": {},
   "outputs": [
    {
     "data": {
      "image/png": "[encoded data removed]",
      "text/plain": [
       "<Figure size 432x288 with 1 Axes>"
      ]
     },
     "metadata": {
      "needs_background": "light"
     },
     "output_type": "display_data"
    }
   ],
   "source": [
    "categories = ['Within 1 year', '1-2 years', '2-3 years', '3-4 years', '4-5 years']\n",
    "\n",
    "# Specificity 90%\n",
    "sensitivity_90 = [p_within_1_year_90_30, p_1_to_2_years_90_30, p_2_to_3_years_90_30, p_3_to_4_years_90_30, p_4_to_5_years_90_30]\n",
    "\n",
    "# Specificity 95%\n",
    "sensitivity_95 = [p_within_1_year_95_30, p_1_to_2_years_95_30, p_2_to_3_years_95_30, p_3_to_4_years_95_30, p_4_to_5_years_95_30]\n",
    "\n",
    "# Specificity 99%\n",
    "sensitivity_99 = [p_within_1_year_99_30, p_1_to_2_years_99_30, p_2_to_3_years_99_30, p_3_to_4_years_99_30, p_4_to_5_years_99_30]\n",
    "\n",
    "# Combine data for each category\n",
    "bar_width = 0.3\n",
    "index = np.arange(len(categories))\n",
    "\n",
    "plt.bar(index, sensitivity_90, bar_width, label='Specificity 90%')\n",
    "plt.bar(index + bar_width, sensitivity_95, bar_width, label='Specificity 95%')\n",
    "plt.bar(index + 2*bar_width, sensitivity_99, bar_width, label='Specificity 99%')\n",
    "\n",
    "plt.xlabel('Time Range (Years)')\n",
    "plt.ylabel('Sensitivity')\n",
    "plt.title('Sensitivity Within Specific Time (Year) Ranges After Model Prediction (Ages 30-35)')\n",
    "plt.xticks(index + bar_width, categories)\n",
    "plt.legend()\n",
    "\n",
    "plt.show()"
   ]
  },
  {
   "cell_type": "code",
   "execution_count": null,
   "id": "7e105a35-e3b6-49ad-9edf-b00846bf70e8",
   "metadata": {},
   "outputs": [],
   "source": []
  }
 ],
 "metadata": {
  "kernelspec": {
   "display_name": "Python 3",
   "language": "python",
   "name": "python3"
  },
  "language_info": {
   "codemirror_mode": {
    "name": "ipython",
    "version": 3
   },
   "file_extension": ".py",
   "mimetype": "text/x-python",
   "name": "python",
   "nbconvert_exporter": "python",
   "pygments_lexer": "ipython3",
   "version": "3.6.15"
  }
 },
 "nbformat": 4,
 "nbformat_minor": 5
}
